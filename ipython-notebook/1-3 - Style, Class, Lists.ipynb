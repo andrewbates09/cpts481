{
 "metadata": {
  "name": "",
  "signature": "sha256:c3578e94b5c95be39c6a106f82b943bc65a1396fe72f976db1641c2b1cf55f07"
 },
 "nbformat": 3,
 "nbformat_minor": 0,
 "worksheets": [
  {
   "cells": [
    {
     "cell_type": "code",
     "collapsed": false,
     "input": [
      "class Foo:\n",
      "    def hello(self):\n",
      "        print(\"hello\")\n",
      "    \n",
      "    def helloTwice(self):\n",
      "        self.hello() # \"this\" in C#\n",
      "        self.hello()\n",
      "    \n",
      "foo = Foo()\n",
      "foo.hello() #invoke hello method of Foo\n",
      "foo.helloTwice()"
     ],
     "language": "python",
     "metadata": {},
     "outputs": [
      {
       "output_type": "stream",
       "stream": "stdout",
       "text": [
        "hello\n",
        "hello\n",
        "hello\n"
       ]
      }
     ],
     "prompt_number": 4
    },
    {
     "cell_type": "code",
     "collapsed": false,
     "input": [
      "3j # engineers and their imaginary numbers\n",
      "3j**2"
     ],
     "language": "python",
     "metadata": {},
     "outputs": [
      {
       "metadata": {},
       "output_type": "pyout",
       "prompt_number": 8,
       "text": [
        "(-9+0j)"
       ]
      }
     ],
     "prompt_number": 8
    },
    {
     "cell_type": "code",
     "collapsed": false,
     "input": [
      "..."
     ],
     "language": "python",
     "metadata": {},
     "outputs": [
      {
       "metadata": {},
       "output_type": "pyout",
       "prompt_number": 9,
       "text": [
        "Ellipsis"
       ]
      }
     ],
     "prompt_number": 9
    },
    {
     "cell_type": "code",
     "collapsed": false,
     "input": [
      "import sys\n",
      "sys.stdout.write(\"classy\")"
     ],
     "language": "python",
     "metadata": {},
     "outputs": [
      {
       "output_type": "stream",
       "stream": "stdout",
       "text": [
        "classy"
       ]
      }
     ],
     "prompt_number": 16
    },
    {
     "cell_type": "code",
     "collapsed": false,
     "input": [
      "\"{}\".format(42)\n",
      "\"the number is {:12.2e}, the second is {0}\".format(42, 19)\n"
     ],
     "language": "python",
     "metadata": {},
     "outputs": [
      {
       "metadata": {},
       "output_type": "pyout",
       "prompt_number": 20,
       "text": [
        "'42'"
       ]
      }
     ],
     "prompt_number": 20
    },
    {
     "cell_type": "code",
     "collapsed": false,
     "input": [
      "''' container classes '''\n",
      "# lists\n",
      "b = [ 3, \"y\", 4j, []]\n",
      "print(b)\n",
      "\n",
      "# mutible\n",
      "b[3] = \"hello\"\n",
      "print(b)\n",
      "\n",
      "b[1:2] = [47]\n",
      "print(b)\n",
      "\n",
      "# tuple - immutible\n",
      "tpl = (2, \"f\", 3.4)\n",
      "print(tpl)\n",
      "\n",
      "# extraction\n",
      "tpl[2:3]"
     ],
     "language": "python",
     "metadata": {},
     "outputs": [
      {
       "output_type": "stream",
       "stream": "stdout",
       "text": [
        "[3, 'y', 4j, []]\n",
        "[3, 'y', 4j, 'hello']\n",
        "[3, 47, 4j, 'hello']\n",
        "(2, 'f', 3.4)\n"
       ]
      },
      {
       "metadata": {},
       "output_type": "pyout",
       "prompt_number": 8,
       "text": [
        "(3.4,)"
       ]
      }
     ],
     "prompt_number": 8
    },
    {
     "cell_type": "code",
     "collapsed": false,
     "input": [
      "''' python names '''\n",
      "a = [3, 19, -4, 2, 7]\n",
      "\n",
      "# reference copied\n",
      "q = a\n",
      "q[1]=\"new value\"\n",
      "print(q)\n",
      "print(a)\n",
      "\n",
      "p = a[:]\n",
      "p[1] = \"even newer value\"\n",
      "print(p)\n",
      "print(a)"
     ],
     "language": "python",
     "metadata": {},
     "outputs": [
      {
       "output_type": "stream",
       "stream": "stdout",
       "text": [
        "[3, 'new value', -4, 2, 7]\n",
        "[3, 'new value', -4, 2, 7]\n",
        "[3, 'even newer value', -4, 2, 7]\n",
        "[3, 'new value', -4, 2, 7]\n"
       ]
      }
     ],
     "prompt_number": 12
    },
    {
     "cell_type": "code",
     "collapsed": false,
     "input": [
      "''' reference symantics '''\n",
      "x = \"a string\"\n",
      "print(x)\n",
      "x = 987654321987654321987654321\n",
      "print(x)"
     ],
     "language": "python",
     "metadata": {},
     "outputs": [
      {
       "output_type": "stream",
       "stream": "stdout",
       "text": [
        "a string\n",
        "987654321987654321987654321\n"
       ]
      }
     ],
     "prompt_number": 13
    },
    {
     "cell_type": "code",
     "collapsed": false,
     "input": [
      "''' Dict Class '''\n",
      "# built in hashing\n",
      "# any hashable object can be used as a key\n",
      "\n"
     ],
     "language": "python",
     "metadata": {},
     "outputs": [
      {
       "metadata": {},
       "output_type": "pyout",
       "prompt_number": 15,
       "text": [
        "' Dict Class '"
       ]
      }
     ],
     "prompt_number": 15
    },
    {
     "cell_type": "code",
     "collapsed": false,
     "input": [
      "''' Sets '''\n",
      "# distinct members\n",
      "s = {1, \"3\", 9, 9, 14}\n",
      "print(s)\n",
      "\n",
      "emptySet = set()\n",
      "emptySet"
     ],
     "language": "python",
     "metadata": {},
     "outputs": [
      {
       "output_type": "stream",
       "stream": "stdout",
       "text": [
        "{9, 1, 14, '3'}\n"
       ]
      },
      {
       "metadata": {},
       "output_type": "pyout",
       "prompt_number": 18,
       "text": [
        "set()"
       ]
      }
     ],
     "prompt_number": 18
    }
   ],
   "metadata": {}
  }
 ]
}