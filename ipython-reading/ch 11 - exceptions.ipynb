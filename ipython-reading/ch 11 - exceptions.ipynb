{
 "metadata": {
  "name": "",
  "signature": "sha256:f38821d45646bf662fa00f96aec4bd08827401da73120361e7fcc05e10f92d2e"
 },
 "nbformat": 3,
 "nbformat_minor": 0,
 "worksheets": [
  {
   "cells": [
    {
     "cell_type": "code",
     "collapsed": false,
     "input": [
      "''' Exceptions '''\n",
      "\n",
      "# There's a whole bunch of built in exceptions\n",
      "\n",
      "# Then there's try statements of the form\n",
      "try:\n",
      "   0 == 1\n",
      "except (0 is not 1):\n",
      "        print('0 != 1')\n",
      "else:\n",
      "        print('0 == 1')\n",
      "finally:\n",
      "        print('finally')\n",
      "    "
     ],
     "language": "python",
     "metadata": {},
     "outputs": [
      {
       "output_type": "stream",
       "stream": "stdout",
       "text": [
        "0 == 1\n",
        "finally\n"
       ]
      }
     ],
     "prompt_number": 29
    },
    {
     "cell_type": "code",
     "collapsed": false,
     "input": [],
     "language": "python",
     "metadata": {},
     "outputs": [],
     "prompt_number": 16
    }
   ],
   "metadata": {}
  }
 ]
}