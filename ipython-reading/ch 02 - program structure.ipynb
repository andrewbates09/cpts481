{
 "metadata": {
  "name": "",
  "signature": "sha256:347ea66a5cd7abe440f33a5f9da225c238bb24ceb3a4bfd76ba4d2dee819a3c9"
 },
 "nbformat": 3,
 "nbformat_minor": 0,
 "worksheets": [
  {
   "cells": [
    {
     "cell_type": "code",
     "collapsed": false,
     "input": [
      "# indentation: do it\n",
      "# line length: 79 chars + newline\n",
      "# spanning: \\ breaking the rules\n"
     ],
     "language": "python",
     "metadata": {},
     "outputs": [],
     "prompt_number": 2
    },
    {
     "cell_type": "code",
     "collapsed": false,
     "input": [
      "print(2 * 3)\n",
      "print(2 ** 3)\n",
      "\n",
      "print(2 * 4)\n",
      "print(2 ** 4)"
     ],
     "language": "python",
     "metadata": {},
     "outputs": [
      {
       "output_type": "stream",
       "stream": "stdout",
       "text": [
        "6\n",
        "8\n",
        "8\n",
        "16\n"
       ]
      }
     ],
     "prompt_number": 6
    },
    {
     "cell_type": "code",
     "collapsed": false,
     "input": [
      "# Encoding\n",
      "    # ASCII\n",
      "    # UTF-8\n",
      "    # ISO-88591\n",
      "\n",
      "    # -*- coding: iso-88591 -*-"
     ],
     "language": "python",
     "metadata": {},
     "outputs": [
      {
       "metadata": {},
       "output_type": "pyout",
       "prompt_number": 5,
       "text": [
        "16"
       ]
      }
     ],
     "prompt_number": 5
    }
   ],
   "metadata": {}
  }
 ]
}