{
 "metadata": {
  "name": "",
  "signature": "sha256:c5a20378f13b17532285f9a0fdef429c6c9351a526e86ee11b6cfa59b17ba968"
 },
 "nbformat": 3,
 "nbformat_minor": 0,
 "worksheets": [
  {
   "cells": [
    {
     "cell_type": "code",
     "collapsed": false,
     "input": [
      "''' Exceptions '''\n",
      "\n",
      "# There's a whole bunch of built in exceptions\n",
      "\n",
      "# Then there's try statements of the form\n",
      "try:\n",
      "    0 is 1\n",
      "except ValueError:\n",
      "        print('0 != 1')\n",
      "else:\n",
      "        print('0 is 1')\n",
      "finally:\n",
      "        print('finally')\n",
      "    "
     ],
     "language": "python",
     "metadata": {},
     "outputs": [
      {
       "output_type": "stream",
       "stream": "stdout",
       "text": [
        "0 is 1\n",
        "finally\n"
       ]
      }
     ],
     "prompt_number": 17
    },
    {
     "cell_type": "code",
     "collapsed": false,
     "input": [],
     "language": "python",
     "metadata": {},
     "outputs": [],
     "prompt_number": 16
    }
   ],
   "metadata": {}
  }
 ]
}