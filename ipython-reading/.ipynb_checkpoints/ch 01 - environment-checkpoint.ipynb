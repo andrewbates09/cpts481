{
 "metadata": {
  "name": "",
  "signature": "sha256:bc7413017df614892557977d146becdd75f4e29d80a888ab39261f14b9e66b9e"
 },
 "nbformat": 3,
 "nbformat_minor": 0,
 "worksheets": [
  {
   "cells": [
    {
     "cell_type": "code",
     "collapsed": false,
     "input": [
      "# Functions that don't return explicit value, return NONE implicitly\n",
      "\n",
      "'''\n",
      "Heron method area of a triangle\n",
      "'''\n",
      "\n",
      "a = 3\n",
      "b = 4\n",
      "c = 5\n",
      "\n",
      "s = 0.5 * (a + b + c) # semiperimeter\n",
      "\n",
      "if s >= max(a, b, c):\n",
      "    area = (s * (s - a) * (s - b) * (s - c))**0.5\n",
      "    print(\"area:\", area)\n",
      "else:\n",
      "    print('improper triangle specified')"
     ],
     "language": "python",
     "metadata": {},
     "outputs": [
      {
       "output_type": "stream",
       "stream": "stdout",
       "text": [
        "area: 6.0\n"
       ]
      }
     ],
     "prompt_number": 6
    },
    {
     "cell_type": "code",
     "collapsed": false,
     "input": [
      "import sys\n",
      "print((sys.argv))"
     ],
     "language": "python",
     "metadata": {},
     "outputs": [
      {
       "output_type": "stream",
       "stream": "stdout",
       "text": [
        "['-c', '-f', '/home/anon/.ipython/profile_default/security/kernel-33686c85-539b-4a91-a636-53080df024f6.json', \"--IPKernelApp.parent_appname='ipython-notebook'\", '--profile-dir', '/home/anon/.ipython/profile_default', '--parent=1']\n"
       ]
      }
     ],
     "prompt_number": 7
    },
    {
     "cell_type": "code",
     "collapsed": false,
     "input": [
      "# python options for execution"
     ],
     "language": "python",
     "metadata": {},
     "outputs": []
    },
    {
     "cell_type": "code",
     "collapsed": false,
     "input": [
      "'''python freaking shell scripts'''\n",
      "# life now seems like it's cheating\n",
      "# $> chmod +x file.py\n",
      "\n",
      "#! /usr/bin/python3"
     ],
     "language": "python",
     "metadata": {},
     "outputs": []
    }
   ],
   "metadata": {}
  }
 ]
}