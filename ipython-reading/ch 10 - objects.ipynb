{
 "metadata": {
  "name": "",
  "signature": "sha256:cc9ec683d6cf8891a36671b8d0d32990d3c4bc178ad6e7f3e25510d2df539f2d"
 },
 "nbformat": 3,
 "nbformat_minor": 0,
 "worksheets": [
  {
   "cells": [
    {
     "cell_type": "code",
     "collapsed": false,
     "input": [],
     "language": "python",
     "metadata": {},
     "outputs": []
    }
   ],
   "metadata": {}
  }
 ]
}