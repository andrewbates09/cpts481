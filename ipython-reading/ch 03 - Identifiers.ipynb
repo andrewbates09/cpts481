{
 "metadata": {
  "name": "",
  "signature": "sha256:77097eff34e357627acd5fdd682e9ed9ffdcea072fcd2cac93c19d8f1dd1cd26"
 },
 "nbformat": 3,
 "nbformat_minor": 0,
 "worksheets": [
  {
   "cells": [
    {
     "cell_type": "code",
     "collapsed": false,
     "input": [
      "# identifier syntax: case sensitive\n",
      "    # lowerCamelCase\n",
      "    # UpperCamelCase\n",
      "    # acceptable_alternative\n",
      "\n",
      "# namespace - collection of identifiers & their mappings to objects\n",
      "\n",
      "''' EX:\n",
      "identifier --maps--> object --belongs--> namespace\n",
      "'''"
     ],
     "language": "python",
     "metadata": {},
     "outputs": []
    }
   ],
   "metadata": {}
  }
 ]
}