{
 "metadata": {
  "name": "",
  "signature": "sha256:bd1db01bb155e005bb8cff757d1ad542655a7f8d414dcaf1c27eb2e454e6f698"
 },
 "nbformat": 3,
 "nbformat_minor": 0,
 "worksheets": [
  {
   "cells": [
    {
     "cell_type": "code",
     "collapsed": false,
     "input": [
      "''' Documenting '''\n",
      "# That necessary bit for keeping track of ideas and sharing with developsers\n",
      "# users, web, etc\n",
      "\n",
      "# How to LaTex\n",
      "\n",
      "# Ok, so maybe not, but lets talk about options"
     ],
     "language": "python",
     "metadata": {},
     "outputs": [
      {
       "metadata": {},
       "output_type": "pyout",
       "prompt_number": 2,
       "text": [
        "' Documenting '"
       ]
      }
     ],
     "prompt_number": 2
    },
    {
     "cell_type": "code",
     "collapsed": false,
     "input": [
      "\"\"\"\n",
      "Some Class Example\n",
      "\"\"\"\n",
      "class ExSample:\n",
      "    \"\"\"\n",
      "    This class is an example to sample pydoc.\n",
      "    \"\"\"\n",
      "    def __init__(self, a=0, b=0):\n",
      "        self.a = a;\n",
      "        self.b = b;\n",
      "        \n",
      "    def dothing(a, b):\n",
      "        return a + b\n",
      "    \n",
      "    def __str__(self):\n",
      "        return \"({}, {})\".format(self.a, self.b)\n"
     ],
     "language": "python",
     "metadata": {},
     "outputs": [],
     "prompt_number": 3
    },
    {
     "cell_type": "code",
     "collapsed": false,
     "input": [
      "pydoc3 ExSample"
     ],
     "language": "python",
     "metadata": {},
     "outputs": [
      {
       "ename": "SyntaxError",
       "evalue": "invalid syntax (<ipython-input-5-297f8457ba24>, line 1)",
       "output_type": "pyerr",
       "traceback": [
        "\u001b[1;36m  File \u001b[1;32m\"<ipython-input-5-297f8457ba24>\"\u001b[1;36m, line \u001b[1;32m1\u001b[0m\n\u001b[1;33m    pydoc3 ExSample\u001b[0m\n\u001b[1;37m                  ^\u001b[0m\n\u001b[1;31mSyntaxError\u001b[0m\u001b[1;31m:\u001b[0m invalid syntax\n"
       ]
      }
     ],
     "prompt_number": 5
    },
    {
     "cell_type": "code",
     "collapsed": false,
     "input": [
      "''' epydoc '''"
     ],
     "language": "python",
     "metadata": {},
     "outputs": [
      {
       "metadata": {},
       "output_type": "pyout",
       "prompt_number": 6,
       "text": [
        "' epydoc '"
       ]
      }
     ],
     "prompt_number": 6
    },
    {
     "cell_type": "code",
     "collapsed": false,
     "input": [
      "''' sphinx '''\n",
      "# The current "
     ],
     "language": "python",
     "metadata": {},
     "outputs": []
    }
   ],
   "metadata": {}
  }
 ]
}