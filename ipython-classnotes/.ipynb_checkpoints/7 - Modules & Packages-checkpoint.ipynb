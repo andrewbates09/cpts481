{
 "metadata": {
  "name": "",
  "signature": "sha256:48a5dca2919c7fb5101226d8ac004e4ecffead961db8be4582c4a5510c0de3d7"
 },
 "nbformat": 3,
 "nbformat_minor": 0,
 "worksheets": [
  {
   "cells": [
    {
     "cell_type": "code",
     "collapsed": false,
     "input": [
      "''' Example Functional Programming '''\n",
      "\n",
      "def doy(m, d, y):\n",
      "    return sum(\n",
      "        # Jan\n",
      "        ( 31,\n",
      "        # Feb\n",
      "        29 if y % 400 == 0 or (y % 4 == 0 and y % 100 != 0) else 28,\n",
      "        #mar apr may jun jul aug sept oct nov dec\n",
      "        31, 30, 31, 30, 31, 31, 30, 31, 30, 31\n",
      "        )[:m-1]) + d\n",
      "\n",
      "print('__name__ is', __name__)\n",
      "\n",
      "# importing module \n",
      "if __name__ == '__main__': # is this being brought in from the command line?\n",
      "    import sys\n",
      "    m = int(sys.argv[1])\n",
      "    d = int(sys.argv[2])\n",
      "    y = int(sys.argv[3])\n",
      "    print(doy(m, d, y))"
     ],
     "language": "python",
     "metadata": {},
     "outputs": [
      {
       "output_type": "stream",
       "stream": "stdout",
       "text": [
        "__name__ is __main__\n"
       ]
      },
      {
       "ename": "ValueError",
       "evalue": "invalid literal for int() with base 10: '-f'",
       "output_type": "pyerr",
       "traceback": [
        "\u001b[1;31m---------------------------------------------------------------------------\u001b[0m\n\u001b[1;31mValueError\u001b[0m                                Traceback (most recent call last)",
        "\u001b[1;32m<ipython-input-5-38b5709a9420>\u001b[0m in \u001b[0;36m<module>\u001b[1;34m()\u001b[0m\n\u001b[0;32m     16\u001b[0m \u001b[1;32mif\u001b[0m \u001b[0m__name__\u001b[0m \u001b[1;33m==\u001b[0m \u001b[1;34m'__main__'\u001b[0m\u001b[1;33m:\u001b[0m \u001b[1;31m# is this being brought in from the command line?\u001b[0m\u001b[1;33m\u001b[0m\u001b[0m\n\u001b[0;32m     17\u001b[0m     \u001b[1;32mimport\u001b[0m \u001b[0msys\u001b[0m\u001b[1;33m\u001b[0m\u001b[0m\n\u001b[1;32m---> 18\u001b[1;33m     \u001b[0mm\u001b[0m \u001b[1;33m=\u001b[0m \u001b[0mint\u001b[0m\u001b[1;33m(\u001b[0m\u001b[0msys\u001b[0m\u001b[1;33m.\u001b[0m\u001b[0margv\u001b[0m\u001b[1;33m[\u001b[0m\u001b[1;36m1\u001b[0m\u001b[1;33m]\u001b[0m\u001b[1;33m)\u001b[0m\u001b[1;33m\u001b[0m\u001b[0m\n\u001b[0m\u001b[0;32m     19\u001b[0m     \u001b[0md\u001b[0m \u001b[1;33m=\u001b[0m \u001b[0mint\u001b[0m\u001b[1;33m(\u001b[0m\u001b[0msys\u001b[0m\u001b[1;33m.\u001b[0m\u001b[0margv\u001b[0m\u001b[1;33m[\u001b[0m\u001b[1;36m2\u001b[0m\u001b[1;33m]\u001b[0m\u001b[1;33m)\u001b[0m\u001b[1;33m\u001b[0m\u001b[0m\n\u001b[0;32m     20\u001b[0m     \u001b[0my\u001b[0m \u001b[1;33m=\u001b[0m \u001b[0mint\u001b[0m\u001b[1;33m(\u001b[0m\u001b[0msys\u001b[0m\u001b[1;33m.\u001b[0m\u001b[0margv\u001b[0m\u001b[1;33m[\u001b[0m\u001b[1;36m3\u001b[0m\u001b[1;33m]\u001b[0m\u001b[1;33m)\u001b[0m\u001b[1;33m\u001b[0m\u001b[0m\n",
        "\u001b[1;31mValueError\u001b[0m: invalid literal for int() with base 10: '-f'"
       ]
      }
     ],
     "prompt_number": 5
    },
    {
     "cell_type": "code",
     "collapsed": false,
     "input": [
      "from Ipython.display import HTML\n",
      "HTML(open('../include/notes.css\", \"r\").read())"
     ],
     "language": "python",
     "metadata": {},
     "outputs": [
      {
       "ename": "SyntaxError",
       "evalue": "EOL while scanning string literal (<ipython-input-8-f37e1d966494>, line 2)",
       "output_type": "pyerr",
       "traceback": [
        "\u001b[1;36m  File \u001b[1;32m\"<ipython-input-8-f37e1d966494>\"\u001b[1;36m, line \u001b[1;32m2\u001b[0m\n\u001b[1;33m    HTML(open('../include/notes.css\", \"r\").read())\u001b[0m\n\u001b[1;37m                                                  ^\u001b[0m\n\u001b[1;31mSyntaxError\u001b[0m\u001b[1;31m:\u001b[0m EOL while scanning string literal\n"
       ]
      }
     ],
     "prompt_number": 8
    },
    {
     "cell_type": "code",
     "collapsed": false,
     "input": [
      "''' Basic Import Syntax & Semantics '''\n",
      "\n",
      "# import moduelName\n",
      "    # built in\n",
      "    # *.so files - shared object\n",
      "    # directory (a package)\n",
      "    # compiled (.pyc or .pyo)\n",
      "    # a frozen module\n",
      "    # a mac resource file\n",
      "    # original python source\n",
      "\n",
      "    \n",
      "''' Variations on import '''\n",
      "\n",
      "# import moduleName as aliasedModuleName\n",
      "import math as m\n",
      "m.sin(3.1)\n",
      "\n",
      "# from moduleName import name0[, nameN]*\n",
      "\n",
      "# from moduleName import name0 as aliasedName0\n",
      "\n",
      "# from moduleName import (...) # span multiple lines\n",
      "\n",
      "# from moduleName import *\n",
      "from tkinter import *"
     ],
     "language": "python",
     "metadata": {},
     "outputs": [],
     "prompt_number": 14
    },
    {
     "cell_type": "code",
     "collapsed": false,
     "input": [
      "''' lookup imported namesapce '''\n",
      "dir(m)"
     ],
     "language": "python",
     "metadata": {},
     "outputs": [
      {
       "metadata": {},
       "output_type": "pyout",
       "prompt_number": 15,
       "text": [
        "['__doc__',\n",
        " '__file__',\n",
        " '__loader__',\n",
        " '__name__',\n",
        " '__package__',\n",
        " '__spec__',\n",
        " 'acos',\n",
        " 'acosh',\n",
        " 'asin',\n",
        " 'asinh',\n",
        " 'atan',\n",
        " 'atan2',\n",
        " 'atanh',\n",
        " 'ceil',\n",
        " 'copysign',\n",
        " 'cos',\n",
        " 'cosh',\n",
        " 'degrees',\n",
        " 'e',\n",
        " 'erf',\n",
        " 'erfc',\n",
        " 'exp',\n",
        " 'expm1',\n",
        " 'fabs',\n",
        " 'factorial',\n",
        " 'floor',\n",
        " 'fmod',\n",
        " 'frexp',\n",
        " 'fsum',\n",
        " 'gamma',\n",
        " 'hypot',\n",
        " 'isfinite',\n",
        " 'isinf',\n",
        " 'isnan',\n",
        " 'ldexp',\n",
        " 'lgamma',\n",
        " 'log',\n",
        " 'log10',\n",
        " 'log1p',\n",
        " 'log2',\n",
        " 'modf',\n",
        " 'pi',\n",
        " 'pow',\n",
        " 'radians',\n",
        " 'sin',\n",
        " 'sinh',\n",
        " 'sqrt',\n",
        " 'tan',\n",
        " 'tanh',\n",
        " 'trunc']"
       ]
      }
     ],
     "prompt_number": 15
    },
    {
     "cell_type": "code",
     "collapsed": false,
     "input": [
      "''' Module Naming Conventions '''\n",
      "\n",
      "import sys\n",
      "print(sys.path)\n",
      "\n",
      "!ls -CF /home/anon/anaconda3/lib/python3.4/site-packages"
     ],
     "language": "python",
     "metadata": {},
     "outputs": [
      {
       "output_type": "stream",
       "stream": "stdout",
       "text": [
        "['', '/home/anon/anaconda3/lib/python34.zip', '/home/anon/anaconda3/lib/python3.4', '/home/anon/anaconda3/lib/python3.4/plat-linux', '/home/anon/anaconda3/lib/python3.4/lib-dynload', '/home/anon/anaconda3/lib/python3.4/site-packages', '/home/anon/anaconda3/lib/python3.4/site-packages/runipy-0.1.0-py3.4.egg', '/home/anon/anaconda3/lib/python3.4/site-packages/setuptools-3.6-py3.4.egg', '/home/anon/anaconda3/lib/python3.4/site-packages/IPython/extensions']\n"
       ]
      },
      {
       "output_type": "stream",
       "stream": "stdout",
       "text": [
        "argcomplete/\t\t\t\t\t     pandas/\r\n",
        "argcomplete-0.6.7-py3.4.egg-info\t\t     pandas-0.14.0-py3.4-linux-i686.egg-info\r\n",
        "astropy/\t\t\t\t\t     past/\r\n",
        "astropy-0.3.2-py3.4-linux-i686.egg-info\t\t     patsy/\r\n",
        "backports/\t\t\t\t\t     patsy-0.2.1-py3.4.egg-info\r\n",
        "backports.ssl_match_hostname-3.4.0.2-py3.4.egg-info  PIL/\r\n",
        "beautifulsoup4-4.3.1-py3.4.egg-info\t\t     Pillow-2.4.0-py3.4-linux-i686.egg-info\r\n",
        "binstar-0.5.3-py3.4.egg-info\t\t\t     pip/\r\n",
        "binstar_client/\t\t\t\t\t     pip-1.5.6-py3.4.egg-info\r\n",
        "bitarray/\t\t\t\t\t     ply/\r\n",
        "bitarray-0.8.1-py3.4.egg-info\t\t\t     ply-3.4-py3.4.egg-info\r\n",
        "blaze/\t\t\t\t\t\t     psutil/\r\n",
        "blaze-0.5-py3.4.egg-info\t\t\t     psutil-2.1.1-py3.4.egg-info\r\n",
        "blz/\t\t\t\t\t\t     _psutil_linux.cpython-34m.so*\r\n",
        "blz-0.6.2-py3.4.egg-info\t\t\t     _psutil_posix.cpython-34m.so*\r\n",
        "bokeh/\t\t\t\t\t\t     py/\r\n",
        "bokeh-0.4.4-py3.4.egg-info\t\t\t     py-1.4.20-py3.4.egg-info\r\n",
        "bs4/\t\t\t\t\t\t     __pycache__/\r\n",
        "cdecimal-2.3-py3.4.egg-info\t\t\t     pycosat-0.6.1-py3.4.egg-info\r\n",
        "cdecimal.cpython-34m.so*\t\t\t     pycosat.cpython-34m.so*\r\n",
        "colorama/\t\t\t\t\t     pycparser/\r\n",
        "colorama-0.2.7-py3.4.egg-info\t\t\t     pycparser-2.10-py3.4.egg-info\r\n",
        "conda/\t\t\t\t\t\t     pycrypto-2.6.1-py3.4.egg-info\r\n",
        "conda-3.6.2-py3.4.egg-info\t\t\t     pyflakes/\r\n",
        "conda_build/\t\t\t\t\t     pyflakes-0.8.1-py3.4.egg-info\r\n",
        "conda_build-1.3.5-py3.4.egg-info\t\t     pygments/\r\n",
        "configobj-5.0.5-py3.4.egg-info\t\t\t     Pygments-1.6-py3.4.egg-info\r\n",
        "configobj.py\t\t\t\t\t     pylab.py*\r\n",
        "Crypto/\t\t\t\t\t\t     pyparsing-2.0.1-py3.4.egg-info\r\n",
        "Cython/\t\t\t\t\t\t     pyparsing.py\r\n",
        "Cython-0.20.1-py3.4.egg-info\t\t\t     PyQt4/\r\n",
        "cython.py\t\t\t\t\t     _pytest/\r\n",
        "datashape/\t\t\t\t\t     pytest-2.5.2-py3.4.egg-info\r\n",
        "DataShape-0.2-py3.4.egg-info\t\t\t     pytest.py*\r\n",
        "dateutil/\t\t\t\t\t     python_dateutil-2.1-py3.4.egg-info\r\n",
        "docutils/\t\t\t\t\t     pytz/\r\n",
        "docutils-0.11-py3.4.egg-info\t\t\t     pytz-2014.3-py3.4.egg-info\r\n",
        "dynd/\t\t\t\t\t\t     pyximport/\r\n",
        "flask/\t\t\t\t\t\t     PyYAML-3.11-py3.4.egg-info\r\n",
        "Flask-0.10.1-py3.4.egg-info\t\t\t     pyzmq-14.3.0-py3.4.egg-info\r\n",
        "future/\t\t\t\t\t\t     README\r\n",
        "future-0.12.1-py3.4.egg-info\t\t\t     requests/\r\n",
        "greenlet-0.4.2-py3.4.egg-info\t\t\t     requests-2.3.0-py3.4.egg-info\r\n",
        "greenlet.cpython-34m.so*\t\t\t     rope/\r\n",
        "h5py/\t\t\t\t\t\t     rope_py3k-0.9.4_1-py3.4.egg-info\r\n",
        "h5py-2.3.0-py3.4.egg-info\t\t\t     runipy-0.1.0-py3.4.egg\r\n",
        "IPython/\t\t\t\t\t     runipy.pth\r\n",
        "ipython-2.2.0-py3.4.egg-info\t\t\t     scikit_image-0.10.0-py3.4-linux-i686.egg-info\r\n",
        "itsdangerous-0.24-py3.4.egg-info\t\t     scipy/\r\n",
        "itsdangerous.py\t\t\t\t\t     scipy-0.14.0-py3.4.egg-info\r\n",
        "jdcal-1.0-py3.4.egg-info\t\t\t     setuptools-3.6-py3.4.egg\r\n",
        "jdcal.py\t\t\t\t\t     setuptools.pth\r\n",
        "jinja2/\t\t\t\t\t\t     sipconfig.py\r\n",
        "Jinja2-2.7.2-py3.4.egg-info\t\t\t     sipdistutils.py\r\n",
        "libfuturize/\t\t\t\t\t     sip.so*\r\n",
        "libpasteurize/\t\t\t\t\t     six-1.6.1-py3.4.egg-info\r\n",
        "llpython/\t\t\t\t\t     six.py\r\n",
        "llvm/\t\t\t\t\t\t     skimage/\r\n",
        "llvm_array/\t\t\t\t\t     sphinx/\r\n",
        "llvm_cbuilder/\t\t\t\t\t     Sphinx-1.2.2-py3.4.egg-info\r\n",
        "llvmpy/\t\t\t\t\t\t     spyder-2.3.0rc-py3.4.egg-info\r\n",
        "llvmpy-0.12.6-py3.4.egg-info\t\t\t     spyderlib/\r\n",
        "lxml/\t\t\t\t\t\t     spyderplugins/\r\n",
        "lxml-3.3.5-py3.4.egg-info\t\t\t     sqlalchemy/\r\n",
        "markupsafe/\t\t\t\t\t     SQLAlchemy-0.9.4-py3.4.egg-info\r\n",
        "MarkupSafe-0.18-py3.4-linux-i686.egg-info\t     sympy/\r\n",
        "matplotlib/\t\t\t\t\t     sympy-0.7.5-py3.4.egg-info\r\n",
        "matplotlib-1.3.1-py3.4-linux-i686.egg-info\t     tables/\r\n",
        "mock-1.0.1-py3.4.egg-info\t\t\t     tables-3.1.1-py3.4.egg-info\r\n",
        "mock.py\t\t\t\t\t\t     test_pycosat.py\r\n",
        "mpl_toolkits/\t\t\t\t\t     tornado/\r\n",
        "multipledispatch/\t\t\t\t     tornado-3.2.1-py3.4-linux-i686.egg-info\r\n",
        "multipledispatch-0.4.3-py3.4.egg-info\t\t     ujson-1.33-py3.4.egg-info\r\n",
        "networkx/\t\t\t\t\t     ujson.cpython-34m.so*\r\n",
        "networkx-1.8.1-py3.4.egg-info\t\t\t     validate.py\r\n",
        "nose/\t\t\t\t\t\t     _version.py\r\n",
        "nose-1.3.3-py3.4.egg-info\t\t\t     werkzeug/\r\n",
        "numba/\t\t\t\t\t\t     Werkzeug-0.9.6-py3.4.egg-info\r\n",
        "numba-0.13.2-py3.4.egg-info\t\t\t     xlrd/\r\n",
        "numexpr/\t\t\t\t\t     xlrd-0.9.3-py3.4.egg-info\r\n",
        "numexpr-2.3.1-py3.4.egg-info\t\t\t     xlsxwriter/\r\n",
        "numpy/\t\t\t\t\t\t     XlsxWriter-0.5.5-py3.4.egg-info\r\n",
        "numpy-1.8.1-py3.4.egg-info\t\t\t     yaml/\r\n",
        "openpyxl/\t\t\t\t\t     _yaml.cpython-34m.so*\r\n",
        "openpyxl-1.8.5-py3.4.egg-info\t\t\t     zmq/\r\n"
       ]
      }
     ],
     "prompt_number": 8
    },
    {
     "cell_type": "code",
     "collapsed": false,
     "input": [
      "import sys\n",
      "sys.path"
     ],
     "language": "python",
     "metadata": {},
     "outputs": [
      {
       "metadata": {},
       "output_type": "pyout",
       "prompt_number": 1,
       "text": [
        "['',\n",
        " '/home/anon/anaconda3/lib/python34.zip',\n",
        " '/home/anon/anaconda3/lib/python3.4',\n",
        " '/home/anon/anaconda3/lib/python3.4/plat-linux',\n",
        " '/home/anon/anaconda3/lib/python3.4/lib-dynload',\n",
        " '/home/anon/anaconda3/lib/python3.4/site-packages',\n",
        " '/home/anon/anaconda3/lib/python3.4/site-packages/runipy-0.1.0-py3.4.egg',\n",
        " '/home/anon/anaconda3/lib/python3.4/site-packages/setuptools-3.6-py3.4.egg',\n",
        " '/home/anon/anaconda3/lib/python3.4/site-packages/IPython/extensions']"
       ]
      }
     ],
     "prompt_number": 1
    },
    {
     "cell_type": "code",
     "collapsed": false,
     "input": [
      "''' Reload Function '''\n",
      "\n",
      "# module namespace gets updated with new objects\n",
      "import importlib\n",
      "importlib.reload(sys)\n",
      "\n"
     ],
     "language": "python",
     "metadata": {},
     "outputs": [
      {
       "output_type": "stream",
       "stream": "stdout",
       "text": [
        "<module 'sys' (built-in)>\n"
       ]
      }
     ],
     "prompt_number": 6
    },
    {
     "cell_type": "code",
     "collapsed": false,
     "input": [
      "''' Packages into scripts '''\n",
      "\n",
      "def main():\n",
      "    print(\"Hello, world!\")\n",
      "    \n",
      "if __name__ == '__main__':\n",
      "    # self test goes here\n",
      "    main()"
     ],
     "language": "python",
     "metadata": {},
     "outputs": [
      {
       "output_type": "stream",
       "stream": "stdout",
       "text": [
        "Hello, world!\n"
       ]
      }
     ],
     "prompt_number": 10
    },
    {
     "cell_type": "code",
     "collapsed": false,
     "input": [
      "#! /usr/bin/env python3\n",
      "# shell script to be passed to the python interpreter"
     ],
     "language": "python",
     "metadata": {},
     "outputs": [],
     "prompt_number": 13
    },
    {
     "cell_type": "code",
     "collapsed": false,
     "input": [
      "a = 42\n",
      "\n",
      "_secretname = \"NI!\"\n",
      "\n",
      "def f(x):\n",
      "    b = x**2\n",
      "    print(_secretname)\n",
      "    return b"
     ],
     "language": "python",
     "metadata": {},
     "outputs": []
    }
   ],
   "metadata": {}
  }
 ]
}