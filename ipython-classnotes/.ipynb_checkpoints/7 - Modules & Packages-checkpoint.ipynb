{
 "metadata": {
  "name": "",
  "signature": "sha256:81bd2534d2a6030aee7ace3d6a539042df9b295fe682676fa0f5cc9dd904b162"
 },
 "nbformat": 3,
 "nbformat_minor": 0,
 "worksheets": [
  {
   "cells": [
    {
     "cell_type": "code",
     "collapsed": false,
     "input": [
      "''' Example Functional Programming '''\n",
      "\n",
      "def doy(m, d, y):\n",
      "    return sum(\n",
      "        # Jan\n",
      "        ( 31,\n",
      "        # Feb\n",
      "        29 if y % 400 == 0 or (y % 4 == 0 and y % 100 != 0) else 28,\n",
      "        #mar apr may jun jul aug sept oct nov dec\n",
      "        31, 30, 31, 30, 31, 31, 30, 31, 30, 31\n",
      "        )[:m-1]) + d\n",
      "\n",
      "print('__name__ is', __name__)\n",
      "\n",
      "# importing module \n",
      "if __name__ == '__main__': # is this being brought in from the command line?\n",
      "    import sys\n",
      "    m = int(sys.argv[1])\n",
      "    d = int(sys.argv[2])\n",
      "    y = int(sys.argv[3])\n",
      "    print(doy(m, d, y))"
     ],
     "language": "python",
     "metadata": {},
     "outputs": [
      {
       "output_type": "stream",
       "stream": "stdout",
       "text": [
        "__name__ is __main__\n"
       ]
      },
      {
       "ename": "ValueError",
       "evalue": "invalid literal for int() with base 10: '-f'",
       "output_type": "pyerr",
       "traceback": [
        "\u001b[1;31m---------------------------------------------------------------------------\u001b[0m\n\u001b[1;31mValueError\u001b[0m                                Traceback (most recent call last)",
        "\u001b[1;32m<ipython-input-5-38b5709a9420>\u001b[0m in \u001b[0;36m<module>\u001b[1;34m()\u001b[0m\n\u001b[0;32m     16\u001b[0m \u001b[1;32mif\u001b[0m \u001b[0m__name__\u001b[0m \u001b[1;33m==\u001b[0m \u001b[1;34m'__main__'\u001b[0m\u001b[1;33m:\u001b[0m \u001b[1;31m# is this being brought in from the command line?\u001b[0m\u001b[1;33m\u001b[0m\u001b[0m\n\u001b[0;32m     17\u001b[0m     \u001b[1;32mimport\u001b[0m \u001b[0msys\u001b[0m\u001b[1;33m\u001b[0m\u001b[0m\n\u001b[1;32m---> 18\u001b[1;33m     \u001b[0mm\u001b[0m \u001b[1;33m=\u001b[0m \u001b[0mint\u001b[0m\u001b[1;33m(\u001b[0m\u001b[0msys\u001b[0m\u001b[1;33m.\u001b[0m\u001b[0margv\u001b[0m\u001b[1;33m[\u001b[0m\u001b[1;36m1\u001b[0m\u001b[1;33m]\u001b[0m\u001b[1;33m)\u001b[0m\u001b[1;33m\u001b[0m\u001b[0m\n\u001b[0m\u001b[0;32m     19\u001b[0m     \u001b[0md\u001b[0m \u001b[1;33m=\u001b[0m \u001b[0mint\u001b[0m\u001b[1;33m(\u001b[0m\u001b[0msys\u001b[0m\u001b[1;33m.\u001b[0m\u001b[0margv\u001b[0m\u001b[1;33m[\u001b[0m\u001b[1;36m2\u001b[0m\u001b[1;33m]\u001b[0m\u001b[1;33m)\u001b[0m\u001b[1;33m\u001b[0m\u001b[0m\n\u001b[0;32m     20\u001b[0m     \u001b[0my\u001b[0m \u001b[1;33m=\u001b[0m \u001b[0mint\u001b[0m\u001b[1;33m(\u001b[0m\u001b[0msys\u001b[0m\u001b[1;33m.\u001b[0m\u001b[0margv\u001b[0m\u001b[1;33m[\u001b[0m\u001b[1;36m3\u001b[0m\u001b[1;33m]\u001b[0m\u001b[1;33m)\u001b[0m\u001b[1;33m\u001b[0m\u001b[0m\n",
        "\u001b[1;31mValueError\u001b[0m: invalid literal for int() with base 10: '-f'"
       ]
      }
     ],
     "prompt_number": 5
    },
    {
     "cell_type": "code",
     "collapsed": false,
     "input": [
      "from Ipython.display import HTML\n",
      "HTML(open('../include/notes.css\", \"r\").read())"
     ],
     "language": "python",
     "metadata": {},
     "outputs": [
      {
       "ename": "SyntaxError",
       "evalue": "EOL while scanning string literal (<ipython-input-8-f37e1d966494>, line 2)",
       "output_type": "pyerr",
       "traceback": [
        "\u001b[1;36m  File \u001b[1;32m\"<ipython-input-8-f37e1d966494>\"\u001b[1;36m, line \u001b[1;32m2\u001b[0m\n\u001b[1;33m    HTML(open('../include/notes.css\", \"r\").read())\u001b[0m\n\u001b[1;37m                                                  ^\u001b[0m\n\u001b[1;31mSyntaxError\u001b[0m\u001b[1;31m:\u001b[0m EOL while scanning string literal\n"
       ]
      }
     ],
     "prompt_number": 8
    },
    {
     "cell_type": "code",
     "collapsed": false,
     "input": [
      "''' Basic Import Syntax & Semantics '''\n",
      "\n",
      "# import moduelName\n",
      "    # built in\n",
      "    # *.so files - shared object\n",
      "    # directory (a package)\n",
      "    # compiled (.pyc or .pyo)\n",
      "    # a frozen module\n",
      "    # a mac resource file\n",
      "    # original python source\n",
      "\n",
      "    \n",
      "''' Variations on import '''\n",
      "\n",
      "# import moduleName as aliasedModuleName\n",
      "import math as m\n",
      "m.sin(3.1)\n",
      "\n",
      "# from moduleName import name0[, nameN]*\n",
      "\n",
      "# from moduleName import name0 as aliasedName0\n",
      "\n",
      "# from moduleName import (...) # span multiple lines\n",
      "\n",
      "# from moduleName import *\n",
      "from tkinter import *"
     ],
     "language": "python",
     "metadata": {},
     "outputs": [],
     "prompt_number": 14
    },
    {
     "cell_type": "code",
     "collapsed": false,
     "input": [
      "''' lookup imported namesapce '''\n",
      "dir(m)"
     ],
     "language": "python",
     "metadata": {},
     "outputs": [
      {
       "metadata": {},
       "output_type": "pyout",
       "prompt_number": 15,
       "text": [
        "['__doc__',\n",
        " '__file__',\n",
        " '__loader__',\n",
        " '__name__',\n",
        " '__package__',\n",
        " '__spec__',\n",
        " 'acos',\n",
        " 'acosh',\n",
        " 'asin',\n",
        " 'asinh',\n",
        " 'atan',\n",
        " 'atan2',\n",
        " 'atanh',\n",
        " 'ceil',\n",
        " 'copysign',\n",
        " 'cos',\n",
        " 'cosh',\n",
        " 'degrees',\n",
        " 'e',\n",
        " 'erf',\n",
        " 'erfc',\n",
        " 'exp',\n",
        " 'expm1',\n",
        " 'fabs',\n",
        " 'factorial',\n",
        " 'floor',\n",
        " 'fmod',\n",
        " 'frexp',\n",
        " 'fsum',\n",
        " 'gamma',\n",
        " 'hypot',\n",
        " 'isfinite',\n",
        " 'isinf',\n",
        " 'isnan',\n",
        " 'ldexp',\n",
        " 'lgamma',\n",
        " 'log',\n",
        " 'log10',\n",
        " 'log1p',\n",
        " 'log2',\n",
        " 'modf',\n",
        " 'pi',\n",
        " 'pow',\n",
        " 'radians',\n",
        " 'sin',\n",
        " 'sinh',\n",
        " 'sqrt',\n",
        " 'tan',\n",
        " 'tanh',\n",
        " 'trunc']"
       ]
      }
     ],
     "prompt_number": 15
    },
    {
     "cell_type": "code",
     "collapsed": false,
     "input": [
      "''' Module Naming Conventions '''\n",
      "\n",
      "import sys\n",
      "print(sys.path)\n",
      "\n",
      "%%sh\n",
      "ls -CF /home/anon/anaconda3/lib/python3.4/site-packages"
     ],
     "language": "python",
     "metadata": {},
     "outputs": [
      {
       "ename": "SyntaxError",
       "evalue": "invalid syntax (<ipython-input-24-173f1822e95f>, line 6)",
       "output_type": "pyerr",
       "traceback": [
        "\u001b[1;36m  File \u001b[1;32m\"<ipython-input-24-173f1822e95f>\"\u001b[1;36m, line \u001b[1;32m6\u001b[0m\n\u001b[1;33m    %%sh\u001b[0m\n\u001b[1;37m    ^\u001b[0m\n\u001b[1;31mSyntaxError\u001b[0m\u001b[1;31m:\u001b[0m invalid syntax\n"
       ]
      }
     ],
     "prompt_number": 24
    },
    {
     "cell_type": "code",
     "collapsed": false,
     "input": [],
     "language": "python",
     "metadata": {},
     "outputs": [
      {
       "metadata": {},
       "output_type": "pyout",
       "prompt_number": 21,
       "text": [
        "['',\n",
        " '/home/anon/anaconda3/lib/python34.zip',\n",
        " '/home/anon/anaconda3/lib/python3.4',\n",
        " '/home/anon/anaconda3/lib/python3.4/plat-linux',\n",
        " '/home/anon/anaconda3/lib/python3.4/lib-dynload',\n",
        " '/home/anon/anaconda3/lib/python3.4/site-packages',\n",
        " '/home/anon/anaconda3/lib/python3.4/site-packages/runipy-0.1.0-py3.4.egg',\n",
        " '/home/anon/anaconda3/lib/python3.4/site-packages/setuptools-3.6-py3.4.egg',\n",
        " '/home/anon/anaconda3/lib/python3.4/site-packages/IPython/extensions']"
       ]
      }
     ],
     "prompt_number": 21
    }
   ],
   "metadata": {}
  }
 ]
}