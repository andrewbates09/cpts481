{
 "metadata": {
  "name": "",
  "signature": "sha256:b4ff6d3ffea3606a2392f2f23ec04e4ab1ac71d3faef473cc0d7c74c1521f8f4"
 },
 "nbformat": 3,
 "nbformat_minor": 0,
 "worksheets": [
  {
   "cells": [
    {
     "cell_type": "code",
     "collapsed": false,
     "input": [
      "''' Tkinter '''\n",
      "# GUI toolkit for python.\n",
      "\n",
      "# simple example\n",
      "from tkinter import Tk, Label\n",
      "\n",
      "tk = Tk()\n",
      "w = Label(tk, text=\"Hellow, world!\") # create the label\n",
      "w.grid()# geometry/packaging manager\n",
      "tk.mainloop()\n",
      "\n",
      "# <-- column -->\n",
      "# ^\n",
      "# |\n",
      "# row\n",
      "# |\n",
      "# v\n",
      "\n",
      "# you can assign grid locations to items"
     ],
     "language": "python",
     "metadata": {},
     "outputs": [],
     "prompt_number": 2
    },
    {
     "cell_type": "code",
     "collapsed": false,
     "input": [
      "''' creating a button in tkinter '''\n",
      "\n",
      "class Application(Frame):\n",
      "    \n",
      "    def __init__(self, master=None):\n",
      "        # always be sure to do this with tkinter chlid classes ...\n",
      "        super().__init__(master)\n",
      "        quitButton = Button(self, text=\"Goodbye, World!\",\n",
      "                            command = self.quit,\n",
      "\n",
      "    # ..."
     ],
     "language": "python",
     "metadata": {},
     "outputs": [
      {
       "ename": "SyntaxError",
       "evalue": "unexpected EOF while parsing (<ipython-input-3-be4b4b64a6b9>, line 11)",
       "output_type": "pyerr",
       "traceback": [
        "\u001b[1;36m  File \u001b[1;32m\"<ipython-input-3-be4b4b64a6b9>\"\u001b[1;36m, line \u001b[1;32m11\u001b[0m\n\u001b[1;33m    # ...\u001b[0m\n\u001b[1;37m         ^\u001b[0m\n\u001b[1;31mSyntaxError\u001b[0m\u001b[1;31m:\u001b[0m unexpected EOF while parsing\n"
       ]
      }
     ],
     "prompt_number": 3
    },
    {
     "cell_type": "code",
     "collapsed": false,
     "input": [],
     "language": "python",
     "metadata": {},
     "outputs": []
    }
   ],
   "metadata": {}
  }
 ]
}