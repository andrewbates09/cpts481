{
 "metadata": {
  "name": "",
  "signature": "sha256:275964b026d4048b39dae32e1c9c1d94aa7e413a3c4724b357403320e4d68ad7"
 },
 "nbformat": 3,
 "nbformat_minor": 0,
 "worksheets": [
  {
   "cells": [
    {
     "cell_type": "code",
     "collapsed": false,
     "input": [
      "''' SHARE ALL THE THINGS '''\n",
      "# distutils\n",
      "# setuptools\n",
      "\n",
      "# pypi"
     ],
     "language": "python",
     "metadata": {},
     "outputs": []
    }
   ],
   "metadata": {}
  }
 ]
}