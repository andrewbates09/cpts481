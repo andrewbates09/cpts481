{
 "metadata": {
  "name": "",
  "signature": "sha256:dfba53f0ce1600723c08dc53ee470d8f4243c6faf91335285815b955d95ec40e"
 },
 "nbformat": 3,
 "nbformat_minor": 0,
 "worksheets": [
  {
   "cells": [
    {
     "cell_type": "code",
     "collapsed": false,
     "input": [
      "''' Emebdding and Extending '''\n",
      "# Tieing in with C language/libraries\n",
      "\n",
      "# Writing a C style file\n",
      "#inclue <Python.h>\n",
      "\n",
      "# Whenever you have a pythhon object occuring in a C program, you have to\n",
      "# call PyDECREF() on that object when you are done with it\n",
      "\n",
      "# PyCallable() - duc typing, has callable method defined\n",
      "\n",
      "# interfacing C - you're going to be limited to C variable sizes"
     ],
     "language": "python",
     "metadata": {},
     "outputs": [
      {
       "metadata": {},
       "output_type": "pyout",
       "prompt_number": 1,
       "text": [
        "' Emebdding and Extending '"
       ]
      }
     ],
     "prompt_number": 1
    },
    {
     "cell_type": "code",
     "collapsed": false,
     "input": [
      "''' swig '''\n",
      "\n"
     ],
     "language": "python",
     "metadata": {},
     "outputs": []
    }
   ],
   "metadata": {}
  }
 ]
}