{
 "metadata": {
  "name": "",
  "signature": "sha256:cf266e4d20d915840a759865105f2a25f37e1e9229d7d7acbec277de0789ae95"
 },
 "nbformat": 3,
 "nbformat_minor": 0,
 "worksheets": [
  {
   "cells": [
    {
     "cell_type": "code",
     "collapsed": false,
     "input": [
      "''' Checking '''\n",
      "# because other people's code isn't perfect (or mine)\n",
      "# detection for minor issues before major issues\n",
      "\n",
      "''' pychecker '''\n",
      "# all the warnings\n",
      "# checking against python2 - not python3\n",
      "\n",
      "''' pylint '''\n",
      "# OCD soab"
     ],
     "language": "python",
     "metadata": {},
     "outputs": [
      {
       "metadata": {},
       "output_type": "pyout",
       "prompt_number": 1,
       "text": [
        "' pylint '"
       ]
      }
     ],
     "prompt_number": 1
    },
    {
     "cell_type": "code",
     "collapsed": false,
     "input": [
      "''' Debugging '''\n"
     ],
     "language": "python",
     "metadata": {},
     "outputs": []
    }
   ],
   "metadata": {}
  }
 ]
}