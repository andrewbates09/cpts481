{
 "metadata": {
  "name": "",
  "signature": "sha256:37655a341303a233eb2ced7f187863f29a6b704cf65d8d9cf7081859e17d6308"
 },
 "nbformat": 3,
 "nbformat_minor": 0,
 "worksheets": [
  {
   "cells": [
    {
     "cell_type": "code",
     "collapsed": false,
     "input": [
      "''' Defining Functions '''\n",
      "# def name([params]):\n",
      "    # suite\n",
      "\n",
      "def g(a,b):\n",
      "    print(\"a = \", a, \"\\tb = \", b) # point for team spaces here\n",
      "\n",
      "g(45,2)\n",
      "print(g(2,5)) # None: because g() returns void/nothing"
     ],
     "language": "python",
     "metadata": {},
     "outputs": [
      {
       "output_type": "stream",
       "stream": "stdout",
       "text": [
        "a =  45 \tb =  2\n",
        "a =  2 \tb =  5\n",
        "None\n"
       ]
      }
     ],
     "prompt_number": 3
    },
    {
     "cell_type": "code",
     "collapsed": false,
     "input": [
      "def h(a,b,c):\n",
      "    return a**2 + 3*b -4*c\n",
      "\n",
      "h(1,2,4)"
     ],
     "language": "python",
     "metadata": {},
     "outputs": [
      {
       "metadata": {},
       "output_type": "pyout",
       "prompt_number": 6,
       "text": [
        "-9"
       ]
      }
     ],
     "prompt_number": 6
    },
    {
     "cell_type": "code",
     "collapsed": false,
     "input": [
      "def swap(x,y):\n",
      "    return (y,x) # return tupple\n",
      "    # also correct:\n",
      "        # return (y,x,)\n",
      "        # return y,x\n",
      "        # return y,x,\n",
      "    # () empty tuple\n",
      "\n",
      "print(swap(3,5.0))\n",
      "print(swap(\"4\", 3j))\n",
      "\n",
      "# if it says it's a duck, it must be a duck"
     ],
     "language": "python",
     "metadata": {},
     "outputs": [
      {
       "output_type": "stream",
       "stream": "stdout",
       "text": [
        "(5.0, 3)\n",
        "(3j, '4')\n"
       ]
      }
     ],
     "prompt_number": 20
    },
    {
     "cell_type": "code",
     "collapsed": false,
     "input": [
      "def invert(i):\n",
      "    return int(str(i)[::-1])\n",
      "\n",
      "print(invert(123))\n",
      "\n",
      "def palindrome(s):\n",
      "    return (s[::-1])\n",
      "\n",
      "print(palindrome(\"abc\"))"
     ],
     "language": "python",
     "metadata": {},
     "outputs": [
      {
       "output_type": "stream",
       "stream": "stdout",
       "text": [
        "321\n",
        "cba\n"
       ]
      }
     ],
     "prompt_number": 33
    },
    {
     "cell_type": "code",
     "collapsed": false,
     "input": [
      "''' Associating Arguments with Parameters '''\n",
      "\n",
      "def h(a,b,c):\n",
      "    return a**2 + 3*b - 4*c\n",
      "h(1,2,4)"
     ],
     "language": "python",
     "metadata": {},
     "outputs": [
      {
       "metadata": {},
       "output_type": "pyout",
       "prompt_number": 36,
       "text": [
        "-9"
       ]
      }
     ],
     "prompt_number": 36
    },
    {
     "cell_type": "code",
     "collapsed": false,
     "input": [
      "''' Defaulting Arguments '''\n",
      "\n",
      "def normal(x=2, y=3, z=None):\n",
      "    if z is None:\n",
      "        print('z was defaulted')\n",
      "        z = 100\n",
      "    return x*y*z\n",
      "\n",
      "print(normal())\n",
      "print(normal(7,4,9))\n",
      "print(normal(z=1, x=2, y=4)) # force keywords\n",
      "print(normal(4,z=7)) # positional before keywords\n"
     ],
     "language": "python",
     "metadata": {},
     "outputs": [
      {
       "output_type": "stream",
       "stream": "stdout",
       "text": [
        "z was defaulted\n",
        "600\n",
        "252\n",
        "8\n",
        "84\n"
       ]
      }
     ],
     "prompt_number": 44
    },
    {
     "cell_type": "code",
     "collapsed": false,
     "input": [
      "from math import exp\n",
      "def gaussian(x, sigma):\n",
      "    return exp(-(x/sigma)**2)\n",
      "\n",
      "sigma = 2.0\n",
      "gaussian(1.0, sigma=sigma)"
     ],
     "language": "python",
     "metadata": {},
     "outputs": [
      {
       "metadata": {},
       "output_type": "pyout",
       "prompt_number": 46,
       "text": [
        "0.7788007830714049"
       ]
      }
     ],
     "prompt_number": 46
    },
    {
     "cell_type": "code",
     "collapsed": false,
     "input": [
      "''' Arbitrary Argument Lists '''\n",
      "\n",
      "def absmax(*elems): # put all params in list\n",
      "    return max([abs(elem) for elem in elems]) # list comprehension\n",
      "\n",
      "print(absmax(-1, 10, -100))\n",
      "\n",
      "def absmax2(offset, *elems): # can include regular args before list\n",
      "    return offset + max([abs(elem) for elem in elems])\n",
      "\n",
      "print(absmax2(1,4,-9,32,4.5,-70.4))"
     ],
     "language": "python",
     "metadata": {},
     "outputs": [
      {
       "output_type": "stream",
       "stream": "stdout",
       "text": [
        "100\n",
        "71.4\n"
       ]
      }
     ],
     "prompt_number": 50
    },
    {
     "cell_type": "code",
     "collapsed": false,
     "input": [
      "''' Positional & Keyword Arguments '''\n",
      "\n",
      "def r(*args, **kwargs):\n",
      "    print('positional: ', args) # positional as list\n",
      "    print(\"keyworded: \", kwargs) # keywords as dictionary\n",
      "\n",
      "r(3,5,\"x\",foo=\"bar\")\n",
      "\n",
      "def f_kw_only(*, text): # will ONLY take keyworded arguments\n",
      "    print(text)\n",
      "\n",
      "print(f_kw_only(text=\"hello\"))"
     ],
     "language": "python",
     "metadata": {},
     "outputs": [
      {
       "output_type": "stream",
       "stream": "stdout",
       "text": [
        "positional:  (3, 5, 'x')\n",
        "keyworded:  {'foo': 'bar'}\n",
        "hello\n",
        "None\n"
       ]
      }
     ],
     "prompt_number": 54
    },
    {
     "cell_type": "code",
     "collapsed": false,
     "input": [
      "''' Role of Functions '''\n",
      "\n",
      "# things you can do to function object\n",
      "dir(normal)"
     ],
     "language": "python",
     "metadata": {},
     "outputs": [
      {
       "metadata": {},
       "output_type": "pyout",
       "prompt_number": 56,
       "text": [
        "['__annotations__',\n",
        " '__call__',\n",
        " '__class__',\n",
        " '__closure__',\n",
        " '__code__',\n",
        " '__defaults__',\n",
        " '__delattr__',\n",
        " '__dict__',\n",
        " '__dir__',\n",
        " '__doc__',\n",
        " '__eq__',\n",
        " '__format__',\n",
        " '__ge__',\n",
        " '__get__',\n",
        " '__getattribute__',\n",
        " '__globals__',\n",
        " '__gt__',\n",
        " '__hash__',\n",
        " '__init__',\n",
        " '__kwdefaults__',\n",
        " '__le__',\n",
        " '__lt__',\n",
        " '__module__',\n",
        " '__name__',\n",
        " '__ne__',\n",
        " '__new__',\n",
        " '__qualname__',\n",
        " '__reduce__',\n",
        " '__reduce_ex__',\n",
        " '__repr__',\n",
        " '__setattr__',\n",
        " '__sizeof__',\n",
        " '__str__',\n",
        " '__subclasshook__']"
       ]
      }
     ],
     "prompt_number": 56
    },
    {
     "cell_type": "code",
     "collapsed": false,
     "input": [
      "''' the GLOBAL/NOLOCAL statement '''\n",
      "\n",
      "t = 97\n",
      "print(t)\n",
      "\n",
      "p = 19\n",
      "\n",
      "def func(x=3):\n",
      "    #global t\n",
      "    t = 45\n",
      "    y = x + 3 + t + p\n",
      "    return y\n",
      "\n",
      "print(func(32))\n",
      "print('t: ', t)\n",
      "\n",
      "def func2(x=3):\n",
      "    global t\n",
      "    y = x + 3 + t + p\n",
      "    return y\n",
      "\n",
      "print(func2(32))\n",
      "print('t: ', t)"
     ],
     "language": "python",
     "metadata": {},
     "outputs": [
      {
       "output_type": "stream",
       "stream": "stdout",
       "text": [
        "97\n",
        "99\n",
        "t:  97\n",
        "151\n",
        "97\n"
       ]
      }
     ],
     "prompt_number": 61
    },
    {
     "cell_type": "code",
     "collapsed": false,
     "input": [
      "# look into python introspection \n",
      "# look into lambda expressions in python"
     ],
     "language": "python",
     "metadata": {},
     "outputs": [],
     "prompt_number": 63
    },
    {
     "cell_type": "code",
     "collapsed": false,
     "input": [
      "# daily quiz : 5\n",
      "def doy(m, d, y):\n",
      "    # m: month[1-12]\n",
      "    # d: day(28,29,30,31)\n",
      "    months = {1:31, 2:28, 3:31, 4:30, 5:31, 6:30, 7:31, 8:31, 9:30, 10:31, 11:30, 12:31}\n",
      "    \n",
      "    ordinal = 0\n",
      "    for check in range(m):\n",
      "        ordinal += months[check]\n",
      "    \n",
      "    # y: % 4\n",
      "    # y: % 400\n",
      "    # y: % 4, ! % 100\n",
      "    \n",
      "    return ordinal\n",
      "\n",
      "doy(1,2,2014)\n",
      "doy(2,28,2014)"
     ],
     "language": "python",
     "metadata": {},
     "outputs": [
      {
       "ename": "KeyError",
       "evalue": "0",
       "output_type": "pyerr",
       "traceback": [
        "\u001b[1;31m---------------------------------------------------------------------------\u001b[0m\n\u001b[1;31mKeyError\u001b[0m                                  Traceback (most recent call last)",
        "\u001b[1;32m<ipython-input-1-6578869c16b9>\u001b[0m in \u001b[0;36m<module>\u001b[1;34m()\u001b[0m\n\u001b[0;32m     15\u001b[0m     \u001b[1;32mreturn\u001b[0m \u001b[0mordinal\u001b[0m\u001b[1;33m\u001b[0m\u001b[0m\n\u001b[0;32m     16\u001b[0m \u001b[1;33m\u001b[0m\u001b[0m\n\u001b[1;32m---> 17\u001b[1;33m \u001b[0mdoy\u001b[0m\u001b[1;33m(\u001b[0m\u001b[1;36m1\u001b[0m\u001b[1;33m,\u001b[0m\u001b[1;36m2\u001b[0m\u001b[1;33m,\u001b[0m\u001b[1;36m2014\u001b[0m\u001b[1;33m)\u001b[0m\u001b[1;33m\u001b[0m\u001b[0m\n\u001b[0m\u001b[0;32m     18\u001b[0m \u001b[0mdoy\u001b[0m\u001b[1;33m(\u001b[0m\u001b[1;36m2\u001b[0m\u001b[1;33m,\u001b[0m\u001b[1;36m28\u001b[0m\u001b[1;33m,\u001b[0m\u001b[1;36m2014\u001b[0m\u001b[1;33m)\u001b[0m\u001b[1;33m\u001b[0m\u001b[0m\n",
        "\u001b[1;32m<ipython-input-1-6578869c16b9>\u001b[0m in \u001b[0;36mdoy\u001b[1;34m(m, d, y)\u001b[0m\n\u001b[0;32m      7\u001b[0m     \u001b[0mordinal\u001b[0m \u001b[1;33m=\u001b[0m \u001b[1;36m0\u001b[0m\u001b[1;33m\u001b[0m\u001b[0m\n\u001b[0;32m      8\u001b[0m     \u001b[1;32mfor\u001b[0m \u001b[0mcheck\u001b[0m \u001b[1;32min\u001b[0m \u001b[0mrange\u001b[0m\u001b[1;33m(\u001b[0m\u001b[0mm\u001b[0m\u001b[1;33m)\u001b[0m\u001b[1;33m:\u001b[0m\u001b[1;33m\u001b[0m\u001b[0m\n\u001b[1;32m----> 9\u001b[1;33m         \u001b[0mordinal\u001b[0m \u001b[1;33m+=\u001b[0m \u001b[0mmonths\u001b[0m\u001b[1;33m[\u001b[0m\u001b[0mcheck\u001b[0m\u001b[1;33m]\u001b[0m\u001b[1;33m\u001b[0m\u001b[0m\n\u001b[0m\u001b[0;32m     10\u001b[0m \u001b[1;33m\u001b[0m\u001b[0m\n\u001b[0;32m     11\u001b[0m     \u001b[1;31m# y: % 4\u001b[0m\u001b[1;33m\u001b[0m\u001b[1;33m\u001b[0m\u001b[0m\n",
        "\u001b[1;31mKeyError\u001b[0m: 0"
       ]
      }
     ],
     "prompt_number": 1
    },
    {
     "cell_type": "code",
     "collapsed": false,
     "input": [
      "''' Built in Functions '''\n",
      "# cool, but don't abuse\n",
      "\n",
      "''' Lambda Functions '''\n",
      "# an expression that is a function\n",
      "f = lambda x: x**2\n",
      "print(f(3))\n",
      "\n",
      "# which is an object, thus you can do\n",
      "g = f\n",
      "print(g(4))\n",
      "\n",
      "# which is entirely equivalent to\n",
      "def f(x):\n",
      "    return x**2\n",
      "print(f(5))"
     ],
     "language": "python",
     "metadata": {},
     "outputs": [
      {
       "output_type": "stream",
       "stream": "stdout",
       "text": [
        "9\n",
        "16\n",
        "25\n"
       ]
      }
     ],
     "prompt_number": 11
    },
    {
     "cell_type": "code",
     "collapsed": false,
     "input": [
      "# Functions are first class objects in python *\n",
      "\n",
      "# being able to construct a function and return it\n",
      "def interpolator(x0, x1, y1):\n",
      "    slope = (y1 - y0) / (x1 - x0)\n",
      "    intercept = y0 - slope * x0\n",
      "    def interpolatingFunc(x):\n",
      "        return slope*x + intercept\n",
      "    return interpolatingFunc\n",
      "\n",
      "if __name__ == '__main__':\n",
      "    f = interpolator(1,1,2,4)\n",
      "    g = interpolator(1,0,5,-3)\n",
      "    for x in range(0,4)\n",
      "        # do thing\n"
     ],
     "language": "python",
     "metadata": {},
     "outputs": [
      {
       "ename": "SyntaxError",
       "evalue": "invalid syntax (<ipython-input-14-bf2981ba8f59>, line 14)",
       "output_type": "pyerr",
       "traceback": [
        "\u001b[1;36m  File \u001b[1;32m\"<ipython-input-14-bf2981ba8f59>\"\u001b[1;36m, line \u001b[1;32m14\u001b[0m\n\u001b[1;33m    for x in range(0,4)\u001b[0m\n\u001b[1;37m                       ^\u001b[0m\n\u001b[1;31mSyntaxError\u001b[0m\u001b[1;31m:\u001b[0m invalid syntax\n"
       ]
      }
     ],
     "prompt_number": 14
    },
    {
     "cell_type": "code",
     "collapsed": false,
     "input": [
      "''' Generators | Iterators '''\n",
      "\n",
      "# take this standard fib function in python\n",
      "def fiboList(n):\n",
      "    i = 1\n",
      "    j = 1\n",
      "    result = [1,1]\n",
      "    for loop in range(n-2):\n",
      "        k = i + j\n",
      "        result.append(k)\n",
      "        i = j\n",
      "        j = k\n",
      "    return result\n",
      "\n",
      "print(fiboList(10))\n",
      "\n",
      "# now break it into something that does this one at a time\n",
      "# in this case, fib is iterable\n",
      "    # runs once - returns generator object\n",
      "def fib():\n",
      "    x = 0\n",
      "    y = 1\n",
      "    while True:\n",
      "        x, y = y, x+y\n",
      "        yield x # get to one point, and return from previous calculation\n",
      "        \n",
      "for fibNum in fib():\n",
      "    if fubNum > 1000:\n",
      "        break\n",
      "    print(fibNum, end=\" \")\n",
      "print()\n",
      "\n",
      "import itertools\n",
      "print(list(itertools.islice(fib(),5,10)))\n",
      "print(list(range(7)))"
     ],
     "language": "python",
     "metadata": {},
     "outputs": [
      {
       "output_type": "stream",
       "stream": "stdout",
       "text": [
        "[1, 1, 2, 3, 5, 8, 13, 21, 34, 55]\n",
        "1 1 2 3 5 8 13 21 34 55 89 144 233 377 610 987 \n",
        "[8, 13, 21, 34, 55]\n",
        "[0, 1, 2, 3, 4, 5, 6]\n"
       ]
      }
     ],
     "prompt_number": 39
    },
    {
     "cell_type": "code",
     "collapsed": false,
     "input": [
      "import itertools\n",
      "for el in itertools.islice(fib(), 5, 10):\n",
      "    print(el, end =', ')"
     ],
     "language": "python",
     "metadata": {},
     "outputs": [
      {
       "output_type": "stream",
       "stream": "stdout",
       "text": [
        "8, 13, 21, 34, 55, "
       ]
      }
     ],
     "prompt_number": 44
    },
    {
     "cell_type": "code",
     "collapsed": false,
     "input": [
      "def primes():\n",
      "    p = []\n",
      "    n = 2\n",
      "    while True:\n",
      "        for j in p:\n",
      "            if n % j == 0:\n",
      "                break\n",
      "        else: # the for loop has been exhausted\n",
      "            p.append(n)\n",
      "            yield n\n",
      "        n += 1\n",
      "\n",
      "n = 10\n",
      "for (ct, num) in enumerate(primes()):\n",
      "    print(num, end=' ')\n",
      "    if ct >= n-1:\n",
      "        break"
     ],
     "language": "python",
     "metadata": {},
     "outputs": [
      {
       "output_type": "stream",
       "stream": "stdout",
       "text": [
        "2 3 5 7 11 13 17 19 23 29 "
       ]
      }
     ],
     "prompt_number": 47
    },
    {
     "cell_type": "code",
     "collapsed": false,
     "input": [
      "''' Decorators '''\n",
      "\n",
      "# without arguments\n",
      "\n",
      "def call_notify(f):\n",
      "    def decoratedF(*args, **kwargs):\n",
      "        print(\"{}() called\".format(f.__name__))\n",
      "        return f(*args, **kwargs)\n",
      "    return decoratedF\n",
      "\n",
      "@call_notify\n",
      "def g(x):\n",
      "    return x**2\n",
      "\n",
      "@call_notify\n",
      "def h():\n",
      "    return(\"spam\")\n",
      "\n",
      "print(g(5))\n",
      "print(h())"
     ],
     "language": "python",
     "metadata": {},
     "outputs": [
      {
       "output_type": "stream",
       "stream": "stdout",
       "text": [
        "g() called\n",
        "25\n",
        "h() called\n",
        "spam\n"
       ]
      }
     ],
     "prompt_number": 53
    }
   ],
   "metadata": {}
  }
 ]
}