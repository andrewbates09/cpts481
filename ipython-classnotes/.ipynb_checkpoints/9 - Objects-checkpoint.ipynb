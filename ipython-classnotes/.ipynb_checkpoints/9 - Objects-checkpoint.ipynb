{
 "metadata": {
  "name": "",
  "signature": "sha256:c6a91b38ab2eb9ccca0ca63cc4b62d988443b892ed8c7bba810a7560284519ea"
 },
 "nbformat": 3,
 "nbformat_minor": 0,
 "worksheets": [
  {
   "cells": [
    {
     "cell_type": "code",
     "collapsed": false,
     "input": [
      "''' Brief overview of objects '''\n",
      "# Shopping mall example:\n",
      "    # person\n",
      "        # attributes: name, age, gender, ethnicity, homeAddr, email, phoneNum\n",
      "    # customer\n",
      "        # attributes: amountOfCash, purchaseHistory, storesVisited, arrivalTime, departureTime,\n",
      "    # employee\n",
      "        # attributes: employer, schedule, salary, licenseNumber, idNumber\n",
      "\n",
      "    # Q: the same person can be an employee at one shop and a customer at another\n",
      "        # maybe create an EmployeeCustomer that inherits from both.\n",
      "        # method to convert from EC -> E | C\n",
      "    "
     ],
     "language": "python",
     "metadata": {},
     "outputs": [
      {
       "metadata": {},
       "output_type": "pyout",
       "prompt_number": 1,
       "text": [
        "' Brief overview of objects '"
       ]
      }
     ],
     "prompt_number": 1
    },
    {
     "cell_type": "code",
     "collapsed": false,
     "input": [
      "''' Creating Classes '''\n",
      "# class ClassName[(*BaseClasses)]:\n",
      "    # [ classDocString ]\n",
      "    # suite\n",
      "\n",
      "# super simple class\n",
      "class Thingie:\n",
      "    pass\n",
      "\n",
      "thingie = Thingie() # now an object with its own namespace\n",
      "thingie.name = \"I Dunno\"\n",
      "thingie.otherStuff = 123\n",
      "print(thingie.name)\n",
      "\n",
      "# similar to C structs\n",
      "print(dir(thingie))\n",
      "print(thingie.__dict__)\n",
      "thingie.__dict__['otherStuff'] = 456\n",
      "print(thingie.otherStuff)\n",
      "\n",
      "# Tis an object that you can manipulate the namespace of.\n",
      "# Where the namespace is just a dictionary"
     ],
     "language": "python",
     "metadata": {},
     "outputs": [
      {
       "output_type": "stream",
       "stream": "stdout",
       "text": [
        "I Dunno\n",
        "['__class__', '__delattr__', '__dict__', '__dir__', '__doc__', '__eq__', '__format__', '__ge__', '__getattribute__', '__gt__', '__hash__', '__init__', '__le__', '__lt__', '__module__', '__ne__', '__new__', '__reduce__', '__reduce_ex__', '__repr__', '__setattr__', '__sizeof__', '__str__', '__subclasshook__', '__weakref__', 'name', 'otherStuff']\n",
        "{'name': 'I Dunno', 'otherStuff': 123}\n",
        "456\n"
       ]
      }
     ],
     "prompt_number": 11
    },
    {
     "cell_type": "code",
     "collapsed": false,
     "input": [
      "class Person:\n",
      "    def __init__(self, name):\n",
      "        self.name = name\n",
      "        self.arrivalTime = None\n",
      "\n",
      "bob = Person(\"Bob\")\n",
      "print(bob.name)"
     ],
     "language": "python",
     "metadata": {},
     "outputs": [
      {
       "output_type": "stream",
       "stream": "stdout",
       "text": [
        "Bob\n"
       ]
      }
     ],
     "prompt_number": 14
    },
    {
     "cell_type": "code",
     "collapsed": false,
     "input": [
      "class Box:\n",
      "    ''' instances of this class are rectangular box '''\n",
      "    def __init__(self, w, h):\n",
      "        ''' constructor '''\n",
      "        self.w = w\n",
      "        self.h = h\n",
      "\n",
      "    # methods are just functions\n",
      "    def area(self):\n",
      "        ''' returns the area of the Box '''\n",
      "        return self.w * self.h"
     ],
     "language": "python",
     "metadata": {},
     "outputs": [],
     "prompt_number": 16
    },
    {
     "cell_type": "code",
     "collapsed": false,
     "input": [
      "from pprint import pprint\n",
      "\n",
      "print('for a Box b...')\n",
      "b = Box(10,23)\n",
      "\n",
      "print(b, hex(id(b)))\n",
      "\n",
      "print('b\\'s attributes and methods:')\n",
      "print('\\tb.area():', b.area())\n",
      "\n",
      "print('\\t')"
     ],
     "language": "python",
     "metadata": {},
     "outputs": [
      {
       "output_type": "stream",
       "stream": "stdout",
       "text": [
        "for a Box b...\n",
        "<__main__.Box object at 0xb49a0bac> 0xb49a0bac\n",
        "b's attributes and methods:\n",
        "\tb.area(): 230\n",
        "\t\n"
       ]
      }
     ],
     "prompt_number": 25
    },
    {
     "cell_type": "code",
     "collapsed": false,
     "input": [
      "''' Use string \"\"\" comments for classes, not #comments. '''\n",
      "# compiler will strip the # comments\n",
      "\n",
      "\n",
      "help(Box)"
     ],
     "language": "python",
     "metadata": {},
     "outputs": [
      {
       "output_type": "stream",
       "stream": "stdout",
       "text": [
        "Help on class Box in module __main__:\n",
        "\n",
        "class Box(builtins.object)\n",
        " |  instances of this class are rectangular box\n",
        " |  \n",
        " |  Methods defined here:\n",
        " |  \n",
        " |  __init__(self, w, h)\n",
        " |      constructor\n",
        " |  \n",
        " |  area(self)\n",
        " |      returns the area of the Box\n",
        " |  \n",
        " |  ----------------------------------------------------------------------\n",
        " |  Data descriptors defined here:\n",
        " |  \n",
        " |  __dict__\n",
        " |      dictionary for instance variables (if defined)\n",
        " |  \n",
        " |  __weakref__\n",
        " |      list of weak references to the object (if defined)\n",
        "\n"
       ]
      }
     ],
     "prompt_number": 28
    },
    {
     "cell_type": "code",
     "collapsed": false,
     "input": [
      "''' Class Attributes '''\n",
      "# nested assignment - defined at same level as methods\n",
      "\n",
      "class Box:\n",
      "    ''' instances of this class are rectangular box '''\n",
      "    \n",
      "    def __init__(self, w, h):\n",
      "        ''' constructor '''\n",
      "        self.w = w\n",
      "        self.h = h\n",
      "\n",
      "    # methods are just functions\n",
      "    def area(self):\n",
      "        ''' returns the area of the Box '''\n",
      "        return self.w * self.h\n",
      "\n",
      "print('For a Box b ... ')\n",
      "b = Box(10,23)\n",
      "b = Box(1,23)\n",
      "b = Box(10,24)\n",
      "b = Box(11,2)\n",
      "\n",
      "print('b\\'s attributes and methods:')\n",
      "print('\\tb.area():', b.area())"
     ],
     "language": "python",
     "metadata": {},
     "outputs": [
      {
       "output_type": "stream",
       "stream": "stdout",
       "text": [
        "For a Box b ... \n",
        "b's attributes and methods:\n",
        "\tb.area(): 22\n"
       ]
      }
     ],
     "prompt_number": 32
    },
    {
     "cell_type": "code",
     "collapsed": false,
     "input": [
      "''' so all the delcarations nuke the previous one '''\n",
      "# but garbage collection doesn't happen until the last reference to something is done\n",
      "pprint(Box.every())"
     ],
     "language": "python",
     "metadata": {},
     "outputs": [
      {
       "ename": "AttributeError",
       "evalue": "type object 'Box' has no attribute 'every'",
       "output_type": "pyerr",
       "traceback": [
        "\u001b[1;31m---------------------------------------------------------------------------\u001b[0m\n\u001b[1;31mAttributeError\u001b[0m                            Traceback (most recent call last)",
        "\u001b[1;32m<ipython-input-38-4d5a39126fb1>\u001b[0m in \u001b[0;36m<module>\u001b[1;34m()\u001b[0m\n\u001b[0;32m      1\u001b[0m \u001b[1;34m''' so all the delcarations nuke the previous one '''\u001b[0m\u001b[1;33m\u001b[0m\u001b[0m\n\u001b[0;32m      2\u001b[0m \u001b[1;31m# but garbage collection doesn't happen until the last reference to something is done\u001b[0m\u001b[1;33m\u001b[0m\u001b[1;33m\u001b[0m\u001b[0m\n\u001b[1;32m----> 3\u001b[1;33m \u001b[0mpprint\u001b[0m\u001b[1;33m(\u001b[0m\u001b[0mBox\u001b[0m\u001b[1;33m.\u001b[0m\u001b[0mevery\u001b[0m\u001b[1;33m(\u001b[0m\u001b[1;33m)\u001b[0m\u001b[1;33m)\u001b[0m\u001b[1;33m\u001b[0m\u001b[0m\n\u001b[0m",
        "\u001b[1;31mAttributeError\u001b[0m: type object 'Box' has no attribute 'every'"
       ]
      }
     ],
     "prompt_number": 38
    },
    {
     "cell_type": "code",
     "collapsed": false,
     "input": [
      "def rhyming(fileLocation, key):\n",
      "    f = open(fileLocation, \"r\")\n",
      "    seq = f.readlines() # maybe something more like read().split('\\n') ?\n",
      "    \n",
      "    seq2 = sorted(seq, key)\n",
      "    \n",
      "    for i in range(seq2):\n",
      "        print(seq[i])\n",
      "    "
     ],
     "language": "python",
     "metadata": {},
     "outputs": [],
     "prompt_number": 2
    },
    {
     "cell_type": "code",
     "collapsed": false,
     "input": [
      "''' Class Exampled: Units '''\n",
      "\n",
      "class Units:\n",
      "    \n",
      "    # called when extantiates unit\n",
      "    def __init__(self, value, arg1):\n",
      "        # make str passed list of 1 str\n",
      "        names = [ arg1 ] if isinstance(arg1, str) else arg1\n",
      "        self.name = name\n",
      "        self.value = value\n",
      "    \n",
      "    def __add__(self, other):\n",
      "        # we require the same unit name, for now.\n",
      "        assert self.name == other.name, (self.name, other.name)\n",
      "        return Units(self.value + other.value, self.name)\n",
      "    \n",
      "    def __mul__(self, other):\n",
      "        # Operator special methods always return new instances.\n",
      "        return Units(self.value * other, self.name)\n",
      "    \n",
      "    def __rmul__(self, other):\n",
      "        # note calling __mul__ will cost as there is one more function call\n",
      "        return self.__mul__(other)\n",
      " \n",
      "    #def __neg__(self):\n",
      "        # return -\n",
      "    \n",
      "    #def __repr__(self):\n",
      "            #return 'Units(' + repr(self.value))\n",
      "    \n",
      "    def __str__(self):\n",
      "        return str(self.value) + ' ' + self.name\n",
      "    \n",
      "    #def __sub__(self):\n",
      "        # same as add, but diff\n",
      "\n",
      "\n",
      "# calls __str__\n",
      "print(Units(12, 'ft'))\n",
      "\n",
      "twoFt = Units(2, 'ft')\n",
      "\n",
      "# calls __mul__\n",
      "print(twoFt * 5)\n",
      "\n",
      "# calls __rmul__\n",
      "print(5 * twoFt)\n",
      "\n",
      "# calls __add__\n",
      "ft = Units(1, 'ft')\n",
      "print (5*ft + 3*ft + Units(12,'ft'))\n",
      "\n"
     ],
     "language": "python",
     "metadata": {},
     "outputs": [
      {
       "ename": "NameError",
       "evalue": "name 'name' is not defined",
       "output_type": "pyerr",
       "traceback": [
        "\u001b[1;31m---------------------------------------------------------------------------\u001b[0m\n\u001b[1;31mNameError\u001b[0m                                 Traceback (most recent call last)",
        "\u001b[1;32m<ipython-input-15-6415d527bc3a>\u001b[0m in \u001b[0;36m<module>\u001b[1;34m()\u001b[0m\n\u001b[0;32m     37\u001b[0m \u001b[1;33m\u001b[0m\u001b[0m\n\u001b[0;32m     38\u001b[0m \u001b[1;31m# calls __str__\u001b[0m\u001b[1;33m\u001b[0m\u001b[1;33m\u001b[0m\u001b[0m\n\u001b[1;32m---> 39\u001b[1;33m \u001b[0mprint\u001b[0m\u001b[1;33m(\u001b[0m\u001b[0mUnits\u001b[0m\u001b[1;33m(\u001b[0m\u001b[1;36m12\u001b[0m\u001b[1;33m,\u001b[0m \u001b[1;34m'ft'\u001b[0m\u001b[1;33m)\u001b[0m\u001b[1;33m)\u001b[0m\u001b[1;33m\u001b[0m\u001b[0m\n\u001b[0m\u001b[0;32m     40\u001b[0m \u001b[1;33m\u001b[0m\u001b[0m\n\u001b[0;32m     41\u001b[0m \u001b[0mtwoFt\u001b[0m \u001b[1;33m=\u001b[0m \u001b[0mUnits\u001b[0m\u001b[1;33m(\u001b[0m\u001b[1;36m2\u001b[0m\u001b[1;33m,\u001b[0m \u001b[1;34m'ft'\u001b[0m\u001b[1;33m)\u001b[0m\u001b[1;33m\u001b[0m\u001b[0m\n",
        "\u001b[1;32m<ipython-input-15-6415d527bc3a>\u001b[0m in \u001b[0;36m__init__\u001b[1;34m(self, value, arg1)\u001b[0m\n\u001b[0;32m      7\u001b[0m         \u001b[1;31m# make str passed list of 1 str\u001b[0m\u001b[1;33m\u001b[0m\u001b[1;33m\u001b[0m\u001b[0m\n\u001b[0;32m      8\u001b[0m         \u001b[0mnames\u001b[0m \u001b[1;33m=\u001b[0m \u001b[1;33m[\u001b[0m \u001b[0marg1\u001b[0m \u001b[1;33m]\u001b[0m \u001b[1;32mif\u001b[0m \u001b[0misinstance\u001b[0m\u001b[1;33m(\u001b[0m\u001b[0marg1\u001b[0m\u001b[1;33m,\u001b[0m \u001b[0mstr\u001b[0m\u001b[1;33m)\u001b[0m \u001b[1;32melse\u001b[0m \u001b[0marg1\u001b[0m\u001b[1;33m\u001b[0m\u001b[0m\n\u001b[1;32m----> 9\u001b[1;33m         \u001b[0mself\u001b[0m\u001b[1;33m.\u001b[0m\u001b[0mname\u001b[0m \u001b[1;33m=\u001b[0m \u001b[0mname\u001b[0m\u001b[1;33m\u001b[0m\u001b[0m\n\u001b[0m\u001b[0;32m     10\u001b[0m         \u001b[0mself\u001b[0m\u001b[1;33m.\u001b[0m\u001b[0mvalue\u001b[0m \u001b[1;33m=\u001b[0m \u001b[0mvalue\u001b[0m\u001b[1;33m\u001b[0m\u001b[0m\n\u001b[0;32m     11\u001b[0m \u001b[1;33m\u001b[0m\u001b[0m\n",
        "\u001b[1;31mNameError\u001b[0m: name 'name' is not defined"
       ]
      }
     ],
     "prompt_number": 15
    },
    {
     "cell_type": "code",
     "collapsed": false,
     "input": [
      "''' Trick with larger data sets '''\n",
      "''' ex: processing files, '''\n",
      "# append results onto a list\n",
      "# then join/concat it to a string"
     ],
     "language": "python",
     "metadata": {},
     "outputs": [
      {
       "metadata": {},
       "output_type": "pyout",
       "prompt_number": 18,
       "text": [
        "' ex: processing files, '"
       ]
      }
     ],
     "prompt_number": 18
    },
    {
     "cell_type": "code",
     "collapsed": false,
     "input": [
      "''' trasitive closure '''\n",
      "# given the ability in units to convert from a-b & b-c\n",
      "# consider in units to convert a-c"
     ],
     "language": "python",
     "metadata": {},
     "outputs": [
      {
       "metadata": {},
       "output_type": "pyout",
       "prompt_number": 20,
       "text": [
        "' trasitive closure '"
       ]
      }
     ],
     "prompt_number": 20
    },
    {
     "cell_type": "code",
     "collapsed": false,
     "input": [
      "''' Inheritance '''\n",
      "from math import sqrt, pi\n",
      "\n",
      "class Object2D:\n",
      "    # base 2d object\n",
      "    print(self.name, \"of area\", self.area())\n",
      "    \n",
      "class Circle(Object2D):\n",
      "    name = \"circle\"\n",
      "    def __init__(self, r):\n",
      "        super().__init__()  # super returns parent class\n",
      "        self.r = r\n",
      "    \n",
      "    def area(self):\n",
      "        return pi * self.r**2\n",
      "    \n",
      "# class Triangle(Object2D):\n",
      "\n",
      "# class RightTriangle(Triangle):\n",
      "\n",
      "# class Rectangle(Object2D):\n",
      "\n",
      "# class Square(Rectangle):\n",
      "\n"
     ],
     "language": "python",
     "metadata": {},
     "outputs": []
    }
   ],
   "metadata": {}
  }
 ]
}