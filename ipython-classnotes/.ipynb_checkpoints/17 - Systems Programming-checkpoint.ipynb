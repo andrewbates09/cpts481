{
 "metadata": {
  "name": "",
  "signature": "sha256:a1da569a9f2481facf44c00615a40016f198210c41f8f6be3fbc9711382cbc95"
 },
 "nbformat": 3,
 "nbformat_minor": 0,
 "worksheets": [
  {
   "cells": [
    {
     "cell_type": "code",
     "collapsed": false,
     "input": [
      "''' Systems Programming '''\n",
      "# Like CptS 360, but in python\n",
      "\n",
      "# argument parser\n",
      "# -v | verbose\n",
      "\n",
      "''' Hidden Arguments '''\n",
      "# -q | quite\n",
      "# mutex - mutual exclusion group\n"
     ],
     "language": "python",
     "metadata": {},
     "outputs": [
      {
       "metadata": {},
       "output_type": "pyout",
       "prompt_number": 3,
       "text": [
        "' Hidden Arguments '"
       ]
      }
     ],
     "prompt_number": 3
    },
    {
     "cell_type": "code",
     "collapsed": false,
     "input": [
      "''' OS Module '''\n",
      "\n",
      "import os\n"
     ],
     "language": "python",
     "metadata": {},
     "outputs": [],
     "prompt_number": 4
    },
    {
     "cell_type": "code",
     "collapsed": false,
     "input": [],
     "language": "python",
     "metadata": {},
     "outputs": []
    }
   ],
   "metadata": {}
  }
 ]
}