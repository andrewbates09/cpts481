{
 "metadata": {
  "name": "",
  "signature": "sha256:e99147320f25ca3d46547bd05a431ed709dfd5cbb0fe1df86bb4d0dfaf7d47e2"
 },
 "nbformat": 3,
 "nbformat_minor": 0,
 "worksheets": [
  {
   "cells": [
    {
     "cell_type": "code",
     "collapsed": false,
     "input": [
      "''' Tkinter '''\n",
      "# GUI toolkit for python.\n",
      "\n",
      "# simple example\n",
      "from tkinter import Tk, Label\n",
      "\n",
      "tk = Tk()\n",
      "w = Label(tk, text=\"Hellow, world!\") # create the label\n",
      "w.grid()# geometry/packaging manager\n",
      "tk.mainloop()\n",
      "\n",
      "# <-- column -->\n",
      "# ^\n",
      "# |\n",
      "# row\n",
      "# |\n",
      "# v\n",
      "\n",
      "# you can assign grid locations to items"
     ],
     "language": "python",
     "metadata": {},
     "outputs": [],
     "prompt_number": 2
    },
    {
     "cell_type": "code",
     "collapsed": false,
     "input": [
      "''' creating a button in tkinter '''\n",
      "\n",
      "class Application(Frame):\n",
      "    \n",
      "    def __init__(self, master=None):\n",
      "        # always be sure to do this with tkinter chlid classes ...\n",
      "        super().__init__(master)\n",
      "        quitButton = Button(self, text=\"Goodbye, World!\",\n",
      "                            command = self.quit,\n",
      "\n",
      "    # ..."
     ],
     "language": "python",
     "metadata": {},
     "outputs": [
      {
       "ename": "SyntaxError",
       "evalue": "unexpected EOF while parsing (<ipython-input-3-be4b4b64a6b9>, line 11)",
       "output_type": "pyerr",
       "traceback": [
        "\u001b[1;36m  File \u001b[1;32m\"<ipython-input-3-be4b4b64a6b9>\"\u001b[1;36m, line \u001b[1;32m11\u001b[0m\n\u001b[1;33m    # ...\u001b[0m\n\u001b[1;37m         ^\u001b[0m\n\u001b[1;31mSyntaxError\u001b[0m\u001b[1;31m:\u001b[0m unexpected EOF while parsing\n"
       ]
      }
     ],
     "prompt_number": 3
    },
    {
     "cell_type": "code",
     "collapsed": false,
     "input": [
      "''' RADIO buttons '''\n",
      "from tkinter import *\n",
      "\n",
      "root = Tk()\n",
      "if 0:\n",
      "    root.option_readfile('lecture_options.txt')\n",
      "root.title('Radiobutton Demo')\n",
      "\n",
      "entries = (\n",
      "    ('Passionfruit',     1),\n",
      "    ('Loganberries',     2),\n",
      "    ('Mangoes in syrup', 3),\n",
      "    ('Oranges',          4),\n",
      "    ('Apples',           5),\n",
      "    ('Grapefruit',       6))\n",
      "fruitVar = IntVar() # shared by all entries in the radiobutton\n",
      "for row, (text, value) in enumerate(entries):\n",
      "    radiobutton = Radiobutton(root,\n",
      "                              text=text, value=value, variable=fruitVar)\n",
      "    if 0:\n",
      "        radiobutton['indicatoron'] = False\n",
      "    radiobutton.grid(row=row, column=0, padx=5, pady=5, sticky=W)\n",
      "fruitVar.set(3) # initial setting\n",
      "root.mainloop()"
     ],
     "language": "python",
     "metadata": {},
     "outputs": [],
     "prompt_number": 5
    },
    {
     "cell_type": "code",
     "collapsed": false,
     "input": [
      "''' TEXT wiget '''\n",
      "from tkinter import *\n",
      "from random import randint\n",
      "\n",
      "root = Tk()\n",
      "if 0:\n",
      "    root.option_readfile('lecture_options.txt')\n",
      "root.title('Text')\n",
      "text = Text(root, height=10) # height is in lines (for Text)\n",
      "\n",
      "tagNamesAndAttrs = (\n",
      "    # ( description\n",
      "    # {\n",
      "    #     [ attributeKeyword: attributeValue, ]+\n",
      "    # } ),\n",
      "    ( \"normal text (no special tag attributes)\",\n",
      "    {\n",
      "    } ),\n",
      "    ( \"12-point bold italic Verdana\",\n",
      "    {\n",
      "        'font': ('Verdana', 12, 'bold', 'italic')\n",
      "    } ),\n",
      "    ( \"24-point bold Verdana\",\n",
      "    {\n",
      "        'font': ('Verdana', 24, 'bold')\n",
      "    } ),\n",
      "    ( \"16-point Tempus Sans ITC in red\",\n",
      "    {\n",
      "        'foreground':  'red',\n",
      "        'font':        ('Tempus Sans ITC', 16),\n",
      "    } ),\n",
      "    ( \"14-point Courier in green\",\n",
      "    {\n",
      "        'foreground':  'green',\n",
      "        'font':        ('Courier', 14),\n",
      "    } ),\n",
      "    ( \"18-point Arial in blue\",\n",
      "    {\n",
      "        'foreground':  'blue',\n",
      "        'font':        ('Arial', 18),\n",
      "    } ),\n",
      "    ( \"grooved with a border width of 4\",\n",
      "    {\n",
      "        'relief':      GROOVE,\n",
      "        'borderwidth': 4,\n",
      "    } ),\n",
      "    ( \"\", {} ),\n",
      "    ( \"grooved with a border width of 8\",\n",
      "    {\n",
      "        'relief':      GROOVE,\n",
      "        'borderwidth': 8,\n",
      "    } ),\n",
      ")\n",
      "nTags = len(tagNamesAndAttrs)\n",
      "\n",
      "for i, (description, attrOfKwd) in enumerate(tagNamesAndAttrs):\n",
      "    tagName = \"_tag\" + str(i)\n",
      "    text.tag_configure(tagName, **attrOfKwd)\n",
      "    text.insert(END, description + '\\n', tagName)\n",
      "\n",
      "text.grid(row=0, column=0)\n",
      "root.mainloop()"
     ],
     "language": "python",
     "metadata": {},
     "outputs": [],
     "prompt_number": 6
    },
    {
     "cell_type": "code",
     "collapsed": false,
     "input": [
      "''' SCROLLBAR '''\n",
      "from tkinter import *\n",
      "\n",
      "root = Tk()\n",
      "if 0:\n",
      "    root.option_readfile('lecture_options.txt')\n",
      "root.title('Text')\n",
      "text = Text(root, height=10, width=50)\n",
      "\n",
      "# Link scrolling the scrollbar in y link to the text\n",
      "scrollbar = Scrollbar(root, command=text.yview)\n",
      "text.configure(yscrollcommand=scrollbar.set)\n",
      "\n",
      "for line in open(\"kant_song.txt\"):   \n",
      "    text.insert(END, line)\n",
      "\n",
      "text.grid(row=0, column=0)\n",
      "scrollbar.grid(row=0, column=1, sticky=N+S)\n",
      "root.mainloop()\n",
      "quit()"
     ],
     "language": "python",
     "metadata": {},
     "outputs": [
      {
       "ename": "FileNotFoundError",
       "evalue": "[Errno 2] No such file or directory: 'kant_song.txt'",
       "output_type": "pyerr",
       "traceback": [
        "\u001b[1;31m---------------------------------------------------------------------------\u001b[0m\n\u001b[1;31mFileNotFoundError\u001b[0m                         Traceback (most recent call last)",
        "\u001b[1;32m<ipython-input-4-38df0df17ed1>\u001b[0m in \u001b[0;36m<module>\u001b[1;34m()\u001b[0m\n\u001b[0;32m     12\u001b[0m \u001b[0mtext\u001b[0m\u001b[1;33m.\u001b[0m\u001b[0mconfigure\u001b[0m\u001b[1;33m(\u001b[0m\u001b[0myscrollcommand\u001b[0m\u001b[1;33m=\u001b[0m\u001b[0mscrollbar\u001b[0m\u001b[1;33m.\u001b[0m\u001b[0mset\u001b[0m\u001b[1;33m)\u001b[0m\u001b[1;33m\u001b[0m\u001b[0m\n\u001b[0;32m     13\u001b[0m \u001b[1;33m\u001b[0m\u001b[0m\n\u001b[1;32m---> 14\u001b[1;33m \u001b[1;32mfor\u001b[0m \u001b[0mline\u001b[0m \u001b[1;32min\u001b[0m \u001b[0mopen\u001b[0m\u001b[1;33m(\u001b[0m\u001b[1;34m\"kant_song.txt\"\u001b[0m\u001b[1;33m)\u001b[0m\u001b[1;33m:\u001b[0m\u001b[1;33m\u001b[0m\u001b[0m\n\u001b[0m\u001b[0;32m     15\u001b[0m     \u001b[0mtext\u001b[0m\u001b[1;33m.\u001b[0m\u001b[0minsert\u001b[0m\u001b[1;33m(\u001b[0m\u001b[0mEND\u001b[0m\u001b[1;33m,\u001b[0m \u001b[0mline\u001b[0m\u001b[1;33m)\u001b[0m\u001b[1;33m\u001b[0m\u001b[0m\n\u001b[0;32m     16\u001b[0m \u001b[1;33m\u001b[0m\u001b[0m\n",
        "\u001b[1;31mFileNotFoundError\u001b[0m: [Errno 2] No such file or directory: 'kant_song.txt'"
       ]
      }
     ],
     "prompt_number": 4
    },
    {
     "cell_type": "code",
     "collapsed": false,
     "input": [],
     "language": "python",
     "metadata": {},
     "outputs": []
    }
   ],
   "metadata": {}
  }
 ]
}