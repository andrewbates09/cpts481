{
 "metadata": {
  "name": "",
  "signature": "sha256:2988c29b7e42294948f83538aef735ab4e5763963d0df85faa996c1636e11432"
 },
 "nbformat": 3,
 "nbformat_minor": 0,
 "worksheets": [
  {
   "cells": [
    {
     "cell_type": "code",
     "collapsed": false,
     "input": [
      "''' invoking the python interpreter '''\n",
      "\n",
      "# eval() function\n",
      "# can be in the form of a string, but doesn't have to be\n",
      "    # re: abstract syntax tree\n",
      "x = 4 \n",
      "result = eval(\"x * 2\", {'x':93})\n",
      "print (result)"
     ],
     "language": "python",
     "metadata": {
      "slideshow": {
       "slide_type": "notes"
      }
     },
     "outputs": [
      {
       "output_type": "stream",
       "stream": "stdout",
       "text": [
        "186\n"
       ]
      }
     ],
     "prompt_number": 3
    },
    {
     "cell_type": "code",
     "collapsed": false,
     "input": [
      "# compile()\n",
      "\n",
      "\n",
      "# exec()\n"
     ],
     "language": "python",
     "metadata": {},
     "outputs": [],
     "prompt_number": 5
    },
    {
     "cell_type": "code",
     "collapsed": false,
     "input": [
      "''' Examining Python Bytecodes with dis Module '''\n",
      "# This is freaking cool. Get to play with the stack.\n",
      "import dis\n",
      "\n",
      "1/0"
     ],
     "language": "python",
     "metadata": {},
     "outputs": [
      {
       "ename": "ZeroDivisionError",
       "evalue": "division by zero",
       "output_type": "pyerr",
       "traceback": [
        "\u001b[1;31m---------------------------------------------------------------------------\u001b[0m\n\u001b[1;31mZeroDivisionError\u001b[0m                         Traceback (most recent call last)",
        "\u001b[1;32m<ipython-input-6-e2ed1c6ee275>\u001b[0m in \u001b[0;36m<module>\u001b[1;34m()\u001b[0m\n\u001b[0;32m      2\u001b[0m \u001b[1;32mimport\u001b[0m \u001b[0mdis\u001b[0m\u001b[1;33m\u001b[0m\u001b[0m\n\u001b[0;32m      3\u001b[0m \u001b[1;33m\u001b[0m\u001b[0m\n\u001b[1;32m----> 4\u001b[1;33m \u001b[1;36m1\u001b[0m \u001b[1;33m/\u001b[0m\u001b[1;36m0\u001b[0m\u001b[1;33m\u001b[0m\u001b[0m\n\u001b[0m",
        "\u001b[1;31mZeroDivisionError\u001b[0m: division by zero"
       ]
      }
     ],
     "prompt_number": 6
    },
    {
     "cell_type": "code",
     "collapsed": false,
     "input": [
      "dis.dis()"
     ],
     "language": "python",
     "metadata": {},
     "outputs": [
      {
       "output_type": "stream",
       "stream": "stdout",
       "text": [
        "  4           0 LOAD_CONST               0 (1)\n",
        "              3 LOAD_CONST               1 (0)\n",
        "    -->       6 BINARY_TRUE_DIVIDE\n",
        "              7 PRINT_EXPR\n",
        "              8 LOAD_CONST               2 (None)\n",
        "             11 RETURN_VALUE\n"
       ]
      }
     ],
     "prompt_number": 7
    },
    {
     "cell_type": "code",
     "collapsed": false,
     "input": [
      "# likewise, we can show the code for any function\n",
      "def fact(n):\n",
      "    return 1 if n == 0 else n*fact(n-1)\n",
      "\n",
      "dis.disassemble(fact.__code__)"
     ],
     "language": "python",
     "metadata": {},
     "outputs": [
      {
       "output_type": "stream",
       "stream": "stdout",
       "text": [
        "  3           0 LOAD_FAST                0 (n)\n",
        "              3 LOAD_CONST               1 (0)\n",
        "              6 COMPARE_OP               2 (==)\n",
        "              9 POP_JUMP_IF_FALSE       16\n",
        "             12 LOAD_CONST               2 (1)\n",
        "             15 RETURN_VALUE\n",
        "        >>   16 LOAD_FAST                0 (n)\n",
        "             19 LOAD_GLOBAL              0 (fact)\n",
        "             22 LOAD_FAST                0 (n)\n",
        "             25 LOAD_CONST               2 (1)\n",
        "             28 BINARY_SUBTRACT\n",
        "             29 CALL_FUNCTION            1 (1 positional, 0 keyword pair)\n",
        "             32 BINARY_MULTIPLY\n",
        "             33 RETURN_VALUE\n"
       ]
      }
     ],
     "prompt_number": 8
    },
    {
     "cell_type": "code",
     "collapsed": false,
     "input": [],
     "language": "python",
     "metadata": {},
     "outputs": []
    }
   ],
   "metadata": {}
  }
 ]
}