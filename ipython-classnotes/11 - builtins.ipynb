{
 "metadata": {
  "name": "",
  "signature": "sha256:14ac9f54da19b38bff2652e33c945779a0d61b98e785e0704250551083deebd2"
 },
 "nbformat": 3,
 "nbformat_minor": 0,
 "worksheets": [
  {
   "cells": [
    {
     "cell_type": "code",
     "collapsed": false,
     "input": [
      "# ex: math and cmath modules\n",
      "from math import *\n",
      "\n",
      "headerFormat = \"\"\n",
      "dataFormat = \"\"\n",
      "\n",
      "print(sqrt(1))\n",
      "\n",
      "print(exp(1))\n",
      "\n"
     ],
     "language": "python",
     "metadata": {},
     "outputs": [
      {
       "output_type": "stream",
       "stream": "stdout",
       "text": [
        "1.0\n",
        "2.718281828459045\n"
       ]
      }
     ],
     "prompt_number": 4
    },
    {
     "cell_type": "code",
     "collapsed": false,
     "input": [
      "from cmath import *\n",
      "\n",
      "print(sqrt(-1))\n",
      "\n",
      "print(exp(1j))"
     ],
     "language": "python",
     "metadata": {},
     "outputs": [
      {
       "output_type": "stream",
       "stream": "stdout",
       "text": [
        "1j\n",
        "(0.5403023058681398+0.8414709848078965j)\n"
       ]
      }
     ],
     "prompt_number": 5
    },
    {
     "cell_type": "code",
     "collapsed": false,
     "input": [
      "import random\n",
      "\n",
      "?random"
     ],
     "language": "python",
     "metadata": {},
     "outputs": [],
     "prompt_number": 8
    },
    {
     "cell_type": "code",
     "collapsed": false,
     "input": [
      "# uses a constant seed, but we can control/change the seed\n",
      "\n",
      "print(random.random())\n",
      "\n",
      "print(random.gauss(1,2))"
     ],
     "language": "python",
     "metadata": {},
     "outputs": [
      {
       "output_type": "stream",
       "stream": "stdout",
       "text": [
        "0.41433627800673023\n",
        "-2.4879215704547475\n"
       ]
      }
     ],
     "prompt_number": 65
    },
    {
     "cell_type": "code",
     "collapsed": false,
     "input": [
      "for i in range(10):\n",
      "    print(random.random())"
     ],
     "language": "python",
     "metadata": {},
     "outputs": [
      {
       "output_type": "stream",
       "stream": "stdout",
       "text": [
        "0.45929220510265756\n",
        "0.3503992628308764\n",
        "0.8617795025168645\n",
        "0.015510201667032097\n",
        "0.9841743878100164\n",
        "0.39490515794861625\n",
        "0.3380884132285329\n",
        "0.6191259090255596\n",
        "0.6018000136863739\n",
        "0.998764791431647\n"
       ]
      }
     ],
     "prompt_number": 54
    },
    {
     "cell_type": "code",
     "collapsed": false,
     "input": [
      "seq = [1, \"spam\", 3.4]\n",
      "# look at this polymorphic tank\n",
      "random.choice(seq)"
     ],
     "language": "python",
     "metadata": {},
     "outputs": [
      {
       "metadata": {},
       "output_type": "pyout",
       "prompt_number": 46,
       "text": [
        "'spam'"
       ]
      }
     ],
     "prompt_number": 46
    },
    {
     "cell_type": "code",
     "collapsed": false,
     "input": [
      "random.shuffle(seq)\n",
      "seq"
     ],
     "language": "python",
     "metadata": {},
     "outputs": [
      {
       "metadata": {},
       "output_type": "pyout",
       "prompt_number": 48,
       "text": [
        "['spam', 3.4, 1]"
       ]
      }
     ],
     "prompt_number": 48
    },
    {
     "cell_type": "code",
     "collapsed": false,
     "input": [
      "# ok, so say you have some list\n",
      "l = list(\"abcdefg\")\n",
      "random.shuffle(l)\n",
      "print(l)\n",
      "\n",
      "# how to put back together to form a word?\n",
      "\"\".join(l)"
     ],
     "language": "python",
     "metadata": {},
     "outputs": [
      {
       "output_type": "stream",
       "stream": "stdout",
       "text": [
        "['g', 'b', 'a', 'c', 'e', 'd', 'f']\n"
       ]
      },
      {
       "metadata": {},
       "output_type": "pyout",
       "prompt_number": 50,
       "text": [
        "'gbacedf'"
       ]
      }
     ],
     "prompt_number": 50
    },
    {
     "cell_type": "code",
     "collapsed": false,
     "input": [
      "ct = 1\n",
      "while 1:\n",
      "    r = random.gauss(0,1)\n",
      "    if abs(r) > 3:\n",
      "        break\n",
      "    ct += 1\n",
      "\n",
      "print(\" r:\", r)\n",
      "print(\"ct:\", ct)"
     ],
     "language": "python",
     "metadata": {},
     "outputs": [
      {
       "output_type": "stream",
       "stream": "stdout",
       "text": [
        " r: 3.8546284618997864\n",
        "ct: 1037\n"
       ]
      }
     ],
     "prompt_number": 69
    },
    {
     "cell_type": "code",
     "collapsed": false,
     "input": [
      "''' REAL \"Honest to Goodness\" Random Number Generators '''\n",
      "# random.SystemRandom\n",
      "rng = random.SystemRandom()\n",
      "random.SystemRandom.random(rng)\n",
      "\n",
      "# drawback is speed, because bits are generated at \"random\" rate"
     ],
     "language": "python",
     "metadata": {},
     "outputs": [
      {
       "metadata": {},
       "output_type": "pyout",
       "prompt_number": 87,
       "text": [
        "0.5274322283015768"
       ]
      }
     ],
     "prompt_number": 87
    },
    {
     "cell_type": "code",
     "collapsed": false,
     "input": [
      "''' Markov Generator '''\n",
      "text = r\"\"\"\n",
      "old mac donald had a farm\n",
      "e i e i o\n",
      "and on that farm there was a\n",
      "cow pig farmer duck truck and muck\n",
      "e i e i o\n",
      "\"\"\"\n",
      "\n",
      "def buildMarkovTable(words):\n",
      "    nonword = '\\n'\n",
      "    \n",
      "    word1 = nonword\n",
      "    word2 = nonword\n",
      "    \n",
      "    table = {}\n",
      "    \n",
      "\n",
      "def printMarkovText(table, words):\n",
      "    nonword = '\\n'\n",
      "    \n",
      "    maxwords = 10000 # limit max number of words\n",
      "    maxwidth = 60\n",
      "    \n",
      "    word1 = nonword\n",
      "    word2 = nonword\n",
      "    \n",
      "    line = \"\"\n",
      "    for i in range(maxwords):\n",
      "        newword = random.choice(table[(word1, word2)])\n",
      "        if newword == nonword:\n",
      "            break\n",
      "        "
     ],
     "language": "python",
     "metadata": {},
     "outputs": [],
     "prompt_number": 91
    },
    {
     "cell_type": "code",
     "collapsed": false,
     "input": [
      "''' Invoking the Python Interpreter '''"
     ],
     "language": "python",
     "metadata": {},
     "outputs": [
      {
       "metadata": {},
       "output_type": "pyout",
       "prompt_number": 92,
       "text": [
        "' Invoking the Python Interpreter '"
       ]
      }
     ],
     "prompt_number": 92
    },
    {
     "cell_type": "code",
     "collapsed": false,
     "input": [],
     "language": "python",
     "metadata": {},
     "outputs": []
    }
   ],
   "metadata": {}
  }
 ]
}