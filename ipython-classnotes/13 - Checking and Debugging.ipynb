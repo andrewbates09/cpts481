{
 "metadata": {
  "name": "",
  "signature": "sha256:db569f7c168f5734711c537ea29f48ef407d1ce133eaa68a166096631a9a1400"
 },
 "nbformat": 3,
 "nbformat_minor": 0,
 "worksheets": [
  {
   "cells": [
    {
     "cell_type": "code",
     "collapsed": false,
     "input": [
      "''' Checking '''\n",
      "# because other people's code isn't perfect (or mine)\n",
      "# detection for minor issues before major issues\n",
      "\n",
      "''' pychecker '''\n",
      "# all the warnings\n",
      "# checking against python2 - not python3\n",
      "\n",
      "''' pylint '''\n",
      "# OCD soab"
     ],
     "language": "python",
     "metadata": {},
     "outputs": [
      {
       "metadata": {},
       "output_type": "pyout",
       "prompt_number": 1,
       "text": [
        "' pylint '"
       ]
      }
     ],
     "prompt_number": 1
    },
    {
     "cell_type": "code",
     "collapsed": false,
     "input": [
      "''' Debugging '''\n",
      "# pdb | it's like gdb, but for python\n",
      "# pdb3 | python3, duh\n",
      "\n",
      "# see notes, try it out"
     ],
     "language": "python",
     "metadata": {},
     "outputs": []
    }
   ],
   "metadata": {}
  }
 ]
}