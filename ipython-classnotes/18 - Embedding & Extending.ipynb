{
 "metadata": {
  "name": "",
  "signature": "sha256:c2792b0b21eca2a453c5c962bc31502d25beda72e60ecd3ad89e4c1b85576f32"
 },
 "nbformat": 3,
 "nbformat_minor": 0,
 "worksheets": [
  {
   "cells": [
    {
     "cell_type": "code",
     "collapsed": false,
     "input": [
      "''' Emebdding and Extending '''\n",
      "# Tieing in with C language/libraries\n",
      "\n",
      "# Writing a C style file\n",
      "#inclue <Python.h>\n",
      "\n",
      "# Whenever you have a pythhon object occuring in a C program, you have to\n",
      "# call PyDECREF() on that object when you are done with it\n",
      "\n",
      "# PyCallable() - duc typing, has callable method defined\n",
      "\n"
     ],
     "language": "python",
     "metadata": {},
     "outputs": []
    }
   ],
   "metadata": {}
  }
 ]
}