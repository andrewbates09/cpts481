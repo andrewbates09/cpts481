{
 "metadata": {
  "name": "",
  "signature": "sha256:6edb4b30bf79af58686030cddcfe3dcd52d5fba589f01495adbc18c9a3592a74"
 },
 "nbformat": 3,
 "nbformat_minor": 0,
 "worksheets": [
  {
   "cells": [
    {
     "cell_type": "code",
     "collapsed": false,
     "input": [
      "''' numpy & tkinter spreadsheet '''\n",
      "# cells can contain any python object\n",
      "# other cells can reference other cells by name\n",
      "# can put any python expression in the cells\n",
      "\n",
      "# not necessary to add cells/rows at this point\n",
      "# just a 2d array"
     ],
     "language": "python",
     "metadata": {},
     "outputs": []
    }
   ],
   "metadata": {}
  }
 ]
}