{
 "metadata": {
  "name": "",
  "signature": "sha256:aa957f71e142f5fe012385d2dabd1f8d80ea420aba8492f491e0dd90e42f7666"
 },
 "nbformat": 3,
 "nbformat_minor": 0,
 "worksheets": [
  {
   "cells": [
    {
     "cell_type": "code",
     "collapsed": false,
     "input": [
      "# namespace\n",
      "a = 42\n",
      "b = a # b is pointing to a, it exists in the same namespace, same object\n",
      "a is b"
     ],
     "language": "python",
     "metadata": {},
     "outputs": [
      {
       "metadata": {},
       "output_type": "pyout",
       "prompt_number": 2,
       "text": [
        "True"
       ]
      }
     ],
     "prompt_number": 2
    },
    {
     "cell_type": "code",
     "collapsed": false,
     "input": [
      "x = 1\n",
      "y = 1\n",
      "print(x is y, id(x), id(y)) # id is really the pointer"
     ],
     "language": "python",
     "metadata": {},
     "outputs": [
      {
       "output_type": "stream",
       "stream": "stdout",
       "text": [
        "True 3078303808 3078303808\n"
       ]
      }
     ],
     "prompt_number": 4
    },
    {
     "cell_type": "code",
     "collapsed": false,
     "input": [
      "a = 3\n",
      "print(id(a))\n",
      "a = a + 1\n",
      "print(id(a))"
     ],
     "language": "python",
     "metadata": {},
     "outputs": [
      {
       "output_type": "stream",
       "stream": "stdout",
       "text": [
        "3078303840\n",
        "3078303856\n"
       ]
      }
     ],
     "prompt_number": 7
    },
    {
     "cell_type": "code",
     "collapsed": false,
     "input": [
      "''' assignment symantics '''\n",
      "\n",
      "# chain assignments\n",
      "a = b = foo = 42.0\n",
      "print(a is b)\n",
      "\n",
      "# Tuple (or list) assignments\n",
      "# in \"parallel\"\n",
      "a, b = \"doug\", \"dinsdale\"\n",
      "print(a, b)\n",
      "\n",
      "# temp assignments\n",
      "a, b = b, a\n",
      "print(a, b)\n",
      "\n",
      "# Extended Iterable Unpacking\n",
      "(first, second) = range(1000)[:2] # probably more efficient..\n",
      "print(first, second)\n",
      "\n",
      "(first, *middle, last) = range(10)\n",
      "print(first, last)\n",
      "print(middle)\n",
      "\n",
      "# augmented assignment (+=)\n",
      "# yes: +, -, *, |, &, ^, >>, <<\n",
      "# no: ++ (expresions vs statement)\n",
      "\n",
      "\n",
      "# target syntax - current namespace vs target namespace\n",
      "a = [1,2,3]\n",
      "a[2] = 32\n",
      "print(a)\n",
      "\n",
      "r = range(10)"
     ],
     "language": "python",
     "metadata": {},
     "outputs": [
      {
       "output_type": "stream",
       "stream": "stdout",
       "text": [
        "True\n",
        "doug dinsdale\n",
        "dinsdale doug\n",
        "0 1\n",
        "0 9\n",
        "[1, 2, 3, 4, 5, 6, 7, 8]\n",
        "[1, 2, 32]\n"
       ]
      }
     ],
     "prompt_number": 24
    },
    {
     "cell_type": "code",
     "collapsed": false,
     "input": [
      "''' Simple vs Compund Statements '''\n",
      "\n",
      "x = 19; y = 33\n",
      "print(x,y)\n",
      "if x == 19: print(\"x is 19\"); print(\"hello, world\")\n",
      "\n",
      "x = 0\n",
      "y = 19\n",
      "if x < y:\n",
      "    print('x is less than y') # this is a block (or \"suite\")\n",
      "    print(\"no, really!\")\n",
      "elif x==y:\n",
      "    print('x is equal to y');\n",
      "    print((1, 2,\n",
      "           3, 4,\n",
      "           5, 6,));\n",
      "    print('hello'); print('world')\n",
      "else:\n",
      "    print('x is greater than y')"
     ],
     "language": "python",
     "metadata": {},
     "outputs": [
      {
       "output_type": "stream",
       "stream": "stdout",
       "text": [
        "19 33\n",
        "x is 19\n",
        "hello, world\n",
        "x is less than y\n",
        "no, really!\n"
       ]
      }
     ],
     "prompt_number": 27
    },
    {
     "cell_type": "code",
     "collapsed": false,
     "input": [
      "''' Loops '''\n",
      "\n",
      "# for statement\n",
      "# don't need to use integers like in C\n",
      "\n",
      "# collections you can itterate through:\n",
      "    # list, dictionaries, tuples, and sets\n",
      "'''\n",
      "greeks = ['alpha', 'beta', 'gamma']\n",
      "print(list(zip(gre3*greeks, 2*colors)))\n",
      "for greek_i,color_i in zip(greeks,colors):\n",
      "    print()\n",
      "'''\n",
      "\n",
      "# if you need an index\n",
      "colors = {'red', 'green', 'blue'}\n",
      "print(list(enumerate(colors)))\n",
      "\n",
      "# tuple (i, color)\n",
      "# iterate through, AND do tuple assignment\n",
      "for i, color in enumerate(colors):\n",
      "    print(i, color)\n",
      "\n",
      "# while - which also has an else clause"
     ],
     "language": "python",
     "metadata": {},
     "outputs": [
      {
       "output_type": "stream",
       "stream": "stdout",
       "text": [
        "[(0, 'green'), (1, 'red'), (2, 'blue')]\n",
        "0 green\n",
        "1 red\n",
        "2 blue\n"
       ]
      }
     ],
     "prompt_number": 39
    },
    {
     "cell_type": "code",
     "collapsed": false,
     "input": [
      "''' The case of missing cases '''\n",
      "# lots of elif\n",
      "# sometimes dict\n",
      "\n",
      "y = \"red\"\n",
      "\n",
      "# less efficient, unfortunately python evaluates all of these \n",
      "x = { \"green\": 2*y,\n",
      "      \"blue\": y[-2],\n",
      "      \"red\": 3**4\n",
      "     }[y]\n",
      "print(x)"
     ],
     "language": "python",
     "metadata": {},
     "outputs": [
      {
       "output_type": "stream",
       "stream": "stdout",
       "text": [
        "81\n"
       ]
      }
     ],
     "prompt_number": 30
    },
    {
     "cell_type": "code",
     "collapsed": false,
     "input": [],
     "language": "python",
     "metadata": {},
     "outputs": []
    }
   ],
   "metadata": {}
  }
 ]
}