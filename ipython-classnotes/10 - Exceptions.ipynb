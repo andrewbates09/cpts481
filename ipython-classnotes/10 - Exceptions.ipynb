{
 "metadata": {
  "name": "",
  "signature": "sha256:d4fe536b2a6b69ad922c2cce709be3e789dd33de3817e7f7b817cc7cb9bb3410"
 },
 "nbformat": 3,
 "nbformat_minor": 0,
 "worksheets": [
  {
   "cells": [
    {
     "cell_type": "code",
     "collapsed": false,
     "input": [
      "''' Loads of use cases for exceptions. '''\n",
      "# Can keep track of code completion.\n",
      "# Can raise syntax errors\n",
      "# Can do lots of things\n"
     ],
     "language": "python",
     "metadata": {},
     "outputs": [
      {
       "metadata": {},
       "output_type": "pyout",
       "prompt_number": 1,
       "text": [
        "' Loads of use cases for exceptions. '"
       ]
      }
     ],
     "prompt_number": 1
    },
    {
     "cell_type": "code",
     "collapsed": false,
     "input": [
      "''' Ackermann '''\n",
      "def ackermann(m, n, trace=False):\n",
      "    if m ==0:\n",
      "        result = n+1\n",
      "#...\n",
      "# lots of more more terrible recursion\n"
     ],
     "language": "python",
     "metadata": {},
     "outputs": [],
     "prompt_number": 2
    },
    {
     "cell_type": "code",
     "collapsed": false,
     "input": [
      "# Try\n",
      "    # raise\n",
      "# Exception"
     ],
     "language": "python",
     "metadata": {},
     "outputs": [],
     "prompt_number": 3
    },
    {
     "cell_type": "code",
     "collapsed": false,
     "input": [
      "''' With '''"
     ],
     "language": "python",
     "metadata": {},
     "outputs": [
      {
       "metadata": {},
       "output_type": "pyout",
       "prompt_number": 4,
       "text": [
        "' With '"
       ]
      }
     ],
     "prompt_number": 4
    },
    {
     "cell_type": "code",
     "collapsed": false,
     "input": [],
     "language": "python",
     "metadata": {},
     "outputs": []
    }
   ],
   "metadata": {}
  }
 ]
}