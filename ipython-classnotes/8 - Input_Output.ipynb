{
 "metadata": {
  "name": "",
  "signature": "sha256:d9600f1f08790f05bc42860e95778ac21b561d95bd9cc9b220bfcb6d05f2ea2b"
 },
 "nbformat": 3,
 "nbformat_minor": 0,
 "worksheets": [
  {
   "cells": [
    {
     "cell_type": "code",
     "collapsed": false,
     "input": [
      "''' print() '''\n",
      "# keywords: sep, end, file, flush\n",
      "\n",
      "print(1, \"spam\", (1,2), {}, { 'z':42})\n",
      "\n",
      "print(1, \"spam\", (1,2), {}, { 'z':42}, sep=\",\\n\", end=\".\")"
     ],
     "language": "python",
     "metadata": {},
     "outputs": [
      {
       "output_type": "stream",
       "stream": "stdout",
       "text": [
        "1 spam (1, 2) {} {'z': 42}\n",
        "1,\n",
        "spam,\n",
        "(1, 2),\n",
        "{},\n",
        "{'z': 42}."
       ]
      }
     ],
     "prompt_number": 5
    },
    {
     "cell_type": "code",
     "collapsed": false,
     "input": [
      "import time\n",
      "print(\"waiting ... \", end=\"\", flush=True)\n",
      "time.sleep(4)\n",
      "print('done')"
     ],
     "language": "python",
     "metadata": {},
     "outputs": [
      {
       "output_type": "stream",
       "stream": "stdout",
       "text": [
        "waiting ... "
       ]
      },
      {
       "output_type": "stream",
       "stream": "stdout",
       "text": [
        "done\n"
       ]
      }
     ],
     "prompt_number": 16
    },
    {
     "cell_type": "code",
     "collapsed": false,
     "input": [
      "''' Streams '''\n",
      "# read()\n",
      "# readlines()\n",
      "# write()\n",
      "# write()\n",
      "# writeline()\n",
      "# writelines()\n",
      "# seek()\n",
      "# tell()\n",
      "\n",
      "# memory mapping is capable\n",
      "\n",
      "f = open(\"namefile.txt\")\n",
      "print(len(f.readlines()))\n",
      "\n",
      "''' Next '''\n",
      "f = open\"filename.txt\")\n",
      "for i in range(3):\n",
      "    print(next(f))\n"
     ],
     "language": "python",
     "metadata": {},
     "outputs": [
      {
       "ename": "SyntaxError",
       "evalue": "invalid syntax (<ipython-input-19-5fb0b701646c>, line 17)",
       "output_type": "pyerr",
       "traceback": [
        "\u001b[1;36m  File \u001b[1;32m\"<ipython-input-19-5fb0b701646c>\"\u001b[1;36m, line \u001b[1;32m17\u001b[0m\n\u001b[1;33m    f = open\"filename.txt\")\u001b[0m\n\u001b[1;37m                         ^\u001b[0m\n\u001b[1;31mSyntaxError\u001b[0m\u001b[1;31m:\u001b[0m invalid syntax\n"
       ]
      }
     ],
     "prompt_number": 19
    },
    {
     "cell_type": "code",
     "collapsed": false,
     "input": [
      "''' open '''\n",
      "# r: default, readable\n",
      "# r+: readable/writeable\n",
      "# w: writeable created\n",
      "# a: writeable append\n",
      "# append \"b\" to any of above read binary/unencoded data\n",
      "\n",
      "s = \"abcdef\\n\"\n",
      "f = open(\"foo.txt\", \"w\")\n",
      "f.write(s)\n"
     ],
     "language": "python",
     "metadata": {},
     "outputs": [
      {
       "metadata": {},
       "output_type": "pyout",
       "prompt_number": 25,
       "text": [
        "7"
       ]
      }
     ],
     "prompt_number": 25
    },
    {
     "cell_type": "code",
     "collapsed": false,
     "input": [
      "# copy a file with a single statement\n",
      "open(\"bar.txt\", \"wb\").write(open(\"foo.txt\", \"rb\").read())"
     ],
     "language": "python",
     "metadata": {},
     "outputs": [
      {
       "metadata": {},
       "output_type": "pyout",
       "prompt_number": 28,
       "text": [
        "7"
       ]
      }
     ],
     "prompt_number": 28
    },
    {
     "cell_type": "code",
     "collapsed": false,
     "input": [
      "''' see his HEX example '''"
     ],
     "language": "python",
     "metadata": {},
     "outputs": [
      {
       "metadata": {},
       "output_type": "pyout",
       "prompt_number": 30,
       "text": [
        "' see his HEX example '"
       ]
      }
     ],
     "prompt_number": 30
    },
    {
     "cell_type": "code",
     "collapsed": false,
     "input": [
      "''' input '''\n",
      "text = input(\"What is the answer: \")\n",
      "print(\"user entered: \\\"{}\\\"\".format(text))"
     ],
     "language": "python",
     "metadata": {},
     "outputs": [
      {
       "name": "stdout",
       "output_type": "stream",
       "stream": "stdout",
       "text": [
        "What is the answer: 2\n"
       ]
      },
      {
       "output_type": "stream",
       "stream": "stdout",
       "text": [
        "user entered: \"2\"\n"
       ]
      }
     ],
     "prompt_number": 35
    },
    {
     "cell_type": "code",
     "collapsed": false,
     "input": [
      "# json module\n",
      "\n",
      "import json\n",
      "\n",
      "struct = ( {\n",
      "    \"r\": 0,\n",
      "    \"g\": 1,\n",
      "    \"b\": 2,\n",
      "    1: \"a\",\n",
      "    -2: \"stuff\",\n",
      "    3.1:(1,2,3)\n",
      "    },\n",
      "    [],\n",
      "    (-1, 0, \"a string\")\n",
      ")\n",
      "\n",
      "result = json.dumps(struct)\n",
      "print(result)\n"
     ],
     "language": "python",
     "metadata": {},
     "outputs": []
    },
    {
     "cell_type": "code",
     "collapsed": false,
     "input": [],
     "language": "python",
     "metadata": {},
     "outputs": [],
     "prompt_number": 35
    }
   ],
   "metadata": {}
  }
 ]
}